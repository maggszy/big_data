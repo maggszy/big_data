{
 "cells": [
  {
   "cell_type": "code",
   "execution_count": 111,
   "id": "8a4666a3-77a8-4583-8c63-a0269e25fa37",
   "metadata": {},
   "outputs": [],
   "source": [
    "import pandas as pd\n",
    "import seaborn as sns\n",
    "import matplotlib.pyplot as plt\n",
    "from pyspark.sql import SparkSession\n",
    "from pyspark.ml import Pipeline\n",
    "from pyspark.ml.feature import StringIndexer, OneHotEncoder, VectorAssembler, VectorIndexer\n",
    "from pyspark.ml.classification import LogisticRegression, DecisionTreeClassifier, RandomForestClassifier\n",
    "from pyspark.ml.evaluation import BinaryClassificationEvaluator\n",
    "\n",
    "from pyspark.sql.functions import split\n",
    "from pyspark.sql.functions import col, hour, minute, second, count,isnan, when, month"
   ]
  },
  {
   "cell_type": "code",
   "execution_count": 112,
   "id": "b6e251ef-9b1c-4e2a-acfa-35b69a6d6744",
   "metadata": {},
   "outputs": [],
   "source": [
    "spark = SparkSession.builder.appName('preprocessing').getOrCreate()"
   ]
  },
  {
   "cell_type": "code",
   "execution_count": 113,
   "id": "392d7de7-2bd8-4d88-b55f-ff5483f6a9e7",
   "metadata": {},
   "outputs": [],
   "source": [
    "tweet_df = spark.read.option(\"header\", \"true\").option(\"delimiter\", \"\\t\") \\\n",
    "    .option(\"inferSchema\", \"true\").csv(\"data/tweet.txt\")"
   ]
  },
  {
   "cell_type": "code",
   "execution_count": 114,
   "id": "904fa051-5ae8-47ce-8946-88646e72cf0c",
   "metadata": {},
   "outputs": [
    {
     "name": "stdout",
     "output_type": "stream",
     "text": [
      "root\n",
      " |-- tweet_id: integer (nullable = true)\n",
      " |-- tweet_tweetId: long (nullable = true)\n",
      " |-- tweet_userId: integer (nullable = true)\n",
      " |-- tweet_artistId: integer (nullable = true)\n",
      " |-- tweet_trackId: integer (nullable = true)\n",
      " |-- tweet_datetime: timestamp (nullable = true)\n",
      " |-- tweet_weekday: integer (nullable = true)\n",
      " |-- tweet_longitude: double (nullable = true)\n",
      " |-- tweet_latitude: double (nullable = true)\n",
      "\n"
     ]
    }
   ],
   "source": [
    "tweet_df.printSchema()"
   ]
  },
  {
   "cell_type": "code",
   "execution_count": 118,
   "id": "50ed8e41-a892-40e6-b80c-f31253545035",
   "metadata": {},
   "outputs": [],
   "source": [
    "tweet_new = tweet_df.withColumn(\"total_seconds\", hour(\"tweet_datetime\") * 3600 + minute(\"tweet_datetime\") * 60 + second(\"tweet_datetime\"))\n",
    "tweet_new = tweet_new.withColumn(\"month\", month(\"tweet_datetime\"))"
   ]
  },
  {
   "cell_type": "code",
   "execution_count": 119,
   "id": "6ef23259-a9f7-4ee5-8586-7bcdd9033acd",
   "metadata": {},
   "outputs": [
    {
     "name": "stdout",
     "output_type": "stream",
     "text": [
      "root\n",
      " |-- tweet_id: integer (nullable = true)\n",
      " |-- tweet_tweetId: long (nullable = true)\n",
      " |-- tweet_userId: integer (nullable = true)\n",
      " |-- tweet_artistId: integer (nullable = true)\n",
      " |-- tweet_trackId: integer (nullable = true)\n",
      " |-- tweet_datetime: timestamp (nullable = true)\n",
      " |-- tweet_weekday: integer (nullable = true)\n",
      " |-- tweet_longitude: double (nullable = true)\n",
      " |-- tweet_latitude: double (nullable = true)\n",
      " |-- total_seconds: integer (nullable = true)\n",
      " |-- month: integer (nullable = true)\n",
      "\n"
     ]
    }
   ],
   "source": [
    "tweet_new.printSchema()\n",
    "# możemy dropnąć twet_tweetId\n",
    "# i to tweet_datetime ??? (bo już raczej niepotrzebne)"
   ]
  },
  {
   "cell_type": "code",
   "execution_count": 120,
   "id": "98578426-3d59-48d2-a13f-6abc52ca23a0",
   "metadata": {},
   "outputs": [
    {
     "name": "stdout",
     "output_type": "stream",
     "text": [
      "+--------+------------------+------------+--------------+-------------+-------------------+-------------+---------------+--------------+-------------+-----+\n",
      "|tweet_id|     tweet_tweetId|tweet_userId|tweet_artistId|tweet_trackId|     tweet_datetime|tweet_weekday|tweet_longitude|tweet_latitude|total_seconds|month|\n",
      "+--------+------------------+------------+--------------+-------------+-------------------+-------------+---------------+--------------+-------------+-----+\n",
      "|       1|167408118735699971|    24842995|         25040|       420585|2012-02-09 00:43:00|            3|       0.126573|       52.1976|         2580|    2|\n",
      "|       2|167408251737088000|    77147006|        122992|      2106213|2012-02-09 00:43:32|            3|       -80.1999|       36.0349|         2612|    2|\n",
      "|       3|185189790390558720|   174626103|        468091|      8030020|2012-03-29 02:21:01|            3|      -0.142822|       51.5207|         8461|    3|\n",
      "|       4|229940340692500480|   538669914|         67904|      1210996|2012-07-30 14:03:43|            0|        2.33475|       48.9009|        50623|    7|\n",
      "|       5|167408424307523584|   245555020|        223140|      4019560|2012-02-09 00:44:13|            3|        -47.818|      -21.2134|         2653|    2|\n",
      "|       6|167408497812709378|   265101134|         33886|       598309|2012-02-09 00:44:30|            3|       -81.4733|       41.4433|         2670|    2|\n",
      "|       7|229941052465885184|   367586495|        271222|      4814971|2012-07-30 14:06:33|            0|        3.35029|       6.57453|        50793|    7|\n",
      "|       8|185189977502658562|    76535932|        462593|      7946138|2012-03-29 02:21:45|            3|        -112.18|       33.5156|         8505|    3|\n",
      "|       9|167408660010647552|    51342414|        314157|      5494830|2012-02-09 00:45:09|            3|       -115.202|       36.2068|         2709|    2|\n",
      "|      10|167408669632376832|    26432623|         17082|      7194015|2012-02-09 00:45:11|            3|       -122.913|       49.1994|         2711|    2|\n",
      "+--------+------------------+------------+--------------+-------------+-------------------+-------------+---------------+--------------+-------------+-----+\n",
      "only showing top 10 rows\n",
      "\n"
     ]
    }
   ],
   "source": [
    "tweet_new.show(10)"
   ]
  },
  {
   "cell_type": "markdown",
   "id": "ca386f14-765a-4c13-8a22-b317fc01de14",
   "metadata": {},
   "source": [
    "### check if missing"
   ]
  },
  {
   "cell_type": "code",
   "execution_count": 121,
   "id": "44673c5f-2b04-4ae7-a9eb-a9ad7b7e146f",
   "metadata": {},
   "outputs": [],
   "source": [
    "c_tab = [\"tweet_id\",\"tweet_userId\",\"tweet_artistId\",\"tweet_trackId\",\"tweet_weekday\",\"tweet_longitude\",\"tweet_latitude\",\"total_seconds\"]\n",
    "missing= tweet_new.select([count(when(isnan(c) | col(c).isNull(), c)).alias(c) for c in c_tab])"
   ]
  },
  {
   "cell_type": "code",
   "execution_count": 122,
   "id": "54896b2d-bccf-4fc5-989e-be9ffe152b84",
   "metadata": {},
   "outputs": [
    {
     "name": "stdout",
     "output_type": "stream",
     "text": [
      "+--------+------------+--------------+-------------+-------------+---------------+--------------+-------------+\n",
      "|tweet_id|tweet_userId|tweet_artistId|tweet_trackId|tweet_weekday|tweet_longitude|tweet_latitude|total_seconds|\n",
      "+--------+------------+--------------+-------------+-------------+---------------+--------------+-------------+\n",
      "|       0|           0|             0|            0|            0|              0|             0|            0|\n",
      "+--------+------------+--------------+-------------+-------------+---------------+--------------+-------------+\n",
      "\n"
     ]
    }
   ],
   "source": [
    "missing.show()"
   ]
  },
  {
   "cell_type": "code",
   "execution_count": 123,
   "id": "d999a935-a651-4f6d-9505-0d6380114c16",
   "metadata": {},
   "outputs": [],
   "source": [
    "# możemy dropnąć \n",
    "# możemy dropnąć twet_tweetId\n",
    "# i to tweet_datetime \n",
    "col_drop = [\"tweet_tweetId\",\"tweet_datetime\"]\n",
    "tweet_new = tweet_new.drop(*col_drop)"
   ]
  },
  {
   "cell_type": "code",
   "execution_count": 124,
   "id": "ec5d7524-9fce-4bce-b4f7-cf885931f65e",
   "metadata": {},
   "outputs": [
    {
     "name": "stdout",
     "output_type": "stream",
     "text": [
      "root\n",
      " |-- tweet_id: integer (nullable = true)\n",
      " |-- tweet_userId: integer (nullable = true)\n",
      " |-- tweet_artistId: integer (nullable = true)\n",
      " |-- tweet_trackId: integer (nullable = true)\n",
      " |-- tweet_weekday: integer (nullable = true)\n",
      " |-- tweet_longitude: double (nullable = true)\n",
      " |-- tweet_latitude: double (nullable = true)\n",
      " |-- total_seconds: integer (nullable = true)\n",
      " |-- month: integer (nullable = true)\n",
      "\n"
     ]
    }
   ],
   "source": [
    "tweet_new.printSchema()"
   ]
  },
  {
   "cell_type": "markdown",
   "id": "dbfbcf51-4c1c-4baf-a0e7-1d5db284e44b",
   "metadata": {},
   "source": [
    "## Encoding"
   ]
  },
  {
   "cell_type": "code",
   "execution_count": 125,
   "id": "3de8c800-5d78-4ea9-b432-392e5ef5752c",
   "metadata": {},
   "outputs": [],
   "source": [
    "# zmiana numeracji dni tyg, 1-pon, 2-wt itd\n",
    "tweet_new = tweet_new.withColumn(\"tweet_weekday\", col(\"tweet_weekday\") + 1)"
   ]
  },
  {
   "cell_type": "code",
   "execution_count": 126,
   "id": "7132f805-527f-4027-82c4-f5e0ba249864",
   "metadata": {},
   "outputs": [],
   "source": [
    "categor_cols = [\"tweet_weekday\",\"month\"]\n",
    "all_stages = []\n",
    "\n",
    "for categor_col in categor_cols:\n",
    "    encoder = OneHotEncoder(inputCols=[categor_col], outputCols=[categor_col + \"_cat_vec\"])\n",
    "    all_stages += [encoder]\n",
    "\n",
    "numeric_cols = [\"tweet_longitude\",\"tweet_latitude\",\"total_seconds\"]\n",
    "assembler_inputs = [c + \"_cat_vec\" for c in categor_cols] + numeric_cols\n",
    "assembler = VectorAssembler(inputCols=assembler_inputs, outputCol=\"features\")\n",
    "all_stages += [assembler]"
   ]
  },
  {
   "cell_type": "code",
   "execution_count": 127,
   "id": "676a7960-10ff-422b-90a2-d20c46d74b70",
   "metadata": {},
   "outputs": [
    {
     "data": {
      "text/plain": [
       "[OneHotEncoder_3f0e036c71ac,\n",
       " OneHotEncoder_29c7e3fa3241,\n",
       " VectorAssembler_e86e16698f0f]"
      ]
     },
     "execution_count": 127,
     "metadata": {},
     "output_type": "execute_result"
    }
   ],
   "source": [
    "all_stages"
   ]
  },
  {
   "cell_type": "code",
   "execution_count": 128,
   "id": "d2e3d3f3-d74d-424f-8218-0399bffea865",
   "metadata": {},
   "outputs": [],
   "source": [
    "tweet_new2 = Pipeline(stages=all_stages).fit(tweet_new).transform(tweet_new)"
   ]
  },
  {
   "cell_type": "code",
   "execution_count": 129,
   "id": "662de661-f304-49ae-a87e-6a4af215ae11",
   "metadata": {},
   "outputs": [
    {
     "name": "stdout",
     "output_type": "stream",
     "text": [
      "root\n",
      " |-- tweet_id: integer (nullable = true)\n",
      " |-- tweet_userId: integer (nullable = true)\n",
      " |-- tweet_artistId: integer (nullable = true)\n",
      " |-- tweet_trackId: integer (nullable = true)\n",
      " |-- tweet_weekday: integer (nullable = true)\n",
      " |-- tweet_longitude: double (nullable = true)\n",
      " |-- tweet_latitude: double (nullable = true)\n",
      " |-- total_seconds: integer (nullable = true)\n",
      " |-- month: integer (nullable = true)\n",
      " |-- tweet_weekday_cat_vec: vector (nullable = true)\n",
      " |-- month_cat_vec: vector (nullable = true)\n",
      " |-- features: vector (nullable = true)\n",
      "\n"
     ]
    }
   ],
   "source": [
    "tweet_new2.printSchema()"
   ]
  },
  {
   "cell_type": "code",
   "execution_count": 130,
   "id": "e41a7c51-e8ff-4119-b59d-be9553306549",
   "metadata": {},
   "outputs": [
    {
     "data": {
      "text/plain": [
       "SparseVector(22, {4: 1.0, 9: 1.0, 19: 0.1266, 20: 52.1976, 21: 2580.0})"
      ]
     },
     "execution_count": 130,
     "metadata": {},
     "output_type": "execute_result"
    }
   ],
   "source": [
    "tweet_new2.select(\"features\").where(col(\"tweet_id\") == 1).first()[0]"
   ]
  },
  {
   "cell_type": "code",
   "execution_count": null,
   "id": "652fafe7-bf35-46d5-8eb0-f45666fa5d82",
   "metadata": {},
   "outputs": [],
   "source": []
  }
 ],
 "metadata": {
  "kernelspec": {
   "display_name": "Python 3 (ipykernel)",
   "language": "python",
   "name": "python3"
  },
  "language_info": {
   "codemirror_mode": {
    "name": "ipython",
    "version": 3
   },
   "file_extension": ".py",
   "mimetype": "text/x-python",
   "name": "python",
   "nbconvert_exporter": "python",
   "pygments_lexer": "ipython3",
   "version": "3.11.6"
  }
 },
 "nbformat": 4,
 "nbformat_minor": 5
}
