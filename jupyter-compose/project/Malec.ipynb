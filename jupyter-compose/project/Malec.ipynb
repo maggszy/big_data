{
 "cells": [
  {
   "cell_type": "code",
   "execution_count": 168,
   "id": "dc6ea296-dd06-4ffb-b8e3-97120674e485",
   "metadata": {},
   "outputs": [],
   "source": [
    "#import pandas as pd\n",
    "import matplotlib.pyplot as plt\n",
    "import numpy as np\n",
    "import pyspark.pandas as pd\n",
    "from pyspark.sql import SparkSession\n",
    "from pyspark.ml import Pipeline\n",
    "from pyspark.ml.feature import VectorAssembler, StringIndexer, OneHotEncoder, VectorIndexer, StandardScaler\n",
    "from pyspark.ml.functions import vector_to_array\n",
    "from pyspark.sql.functions import col, countDistinct, min as spark_min, max as spark_max, split, hour, minute, second, count, isnan, when, month, array\n",
    "from pyspark.sql.types import StructType, StructField, IntegerType, FloatType, StringType"
   ]
  },
  {
   "cell_type": "code",
   "execution_count": 3,
   "id": "80efe937",
   "metadata": {},
   "outputs": [],
   "source": [
    "spark = SparkSession.builder.appName(\"KNNExample\").getOrCreate()"
   ]
  },
  {
   "cell_type": "code",
   "execution_count": 4,
   "id": "439c2ba2-517d-4a0a-8751-a95383506ea3",
   "metadata": {},
   "outputs": [
    {
     "name": "stdout",
     "output_type": "stream",
     "text": [
      "+--------+------------------+------------+--------------+-------------+-------------------+-------------+---------------+--------------+\n",
      "|tweet_id|     tweet_tweetId|tweet_userId|tweet_artistId|tweet_trackId|     tweet_datetime|tweet_weekday|tweet_longitude|tweet_latitude|\n",
      "+--------+------------------+------------+--------------+-------------+-------------------+-------------+---------------+--------------+\n",
      "|       1|167408118735699971|    24842995|         25040|       420585|2012-02-09 00:43:00|            3|       0.126573|       52.1976|\n",
      "|       2|167408251737088000|    77147006|        122992|      2106213|2012-02-09 00:43:32|            3|       -80.1999|       36.0349|\n",
      "|       3|185189790390558720|   174626103|        468091|      8030020|2012-03-29 02:21:01|            3|      -0.142822|       51.5207|\n",
      "|       4|229940340692500480|   538669914|         67904|      1210996|2012-07-30 14:03:43|            0|        2.33475|       48.9009|\n",
      "|       5|167408424307523584|   245555020|        223140|      4019560|2012-02-09 00:44:13|            3|        -47.818|      -21.2134|\n",
      "|       6|167408497812709378|   265101134|         33886|       598309|2012-02-09 00:44:30|            3|       -81.4733|       41.4433|\n",
      "|       7|229941052465885184|   367586495|        271222|      4814971|2012-07-30 14:06:33|            0|        3.35029|       6.57453|\n",
      "|       8|185189977502658562|    76535932|        462593|      7946138|2012-03-29 02:21:45|            3|        -112.18|       33.5156|\n",
      "|       9|167408660010647552|    51342414|        314157|      5494830|2012-02-09 00:45:09|            3|       -115.202|       36.2068|\n",
      "|      10|167408669632376832|    26432623|         17082|      7194015|2012-02-09 00:45:11|            3|       -122.913|       49.1994|\n",
      "+--------+------------------+------------+--------------+-------------+-------------------+-------------+---------------+--------------+\n",
      "only showing top 10 rows\n",
      "\n"
     ]
    }
   ],
   "source": [
    "data = spark.read.options(delimiter=\"\\t\", header=True, inferSchema=True).csv('../data/tweet.txt')\n",
    "data.show(10)"
   ]
  },
  {
   "cell_type": "code",
   "execution_count": 5,
   "id": "87c554fb-099c-40ca-a229-3725e41cd322",
   "metadata": {},
   "outputs": [
    {
     "data": {
      "text/plain": [
       "DataFrame[tweet_id: int, tweet_tweetId: bigint, tweet_userId: int, tweet_artistId: int, tweet_trackId: int, tweet_datetime: timestamp, tweet_weekday: int, tweet_longitude: double, tweet_latitude: double]"
      ]
     },
     "execution_count": 5,
     "metadata": {},
     "output_type": "execute_result"
    }
   ],
   "source": [
    "data"
   ]
  },
  {
   "cell_type": "code",
   "execution_count": 63,
   "id": "541cecb9-acaf-410a-8e6f-c68f7b90aafd",
   "metadata": {},
   "outputs": [
    {
     "data": {
      "text/plain": [
       "1090726"
      ]
     },
     "execution_count": 63,
     "metadata": {},
     "output_type": "execute_result"
    }
   ],
   "source": [
    "data.count()"
   ]
  },
  {
   "cell_type": "code",
   "execution_count": 64,
   "id": "8337c895-2ea2-4a43-9683-10b5f8bcfb3b",
   "metadata": {},
   "outputs": [
    {
     "name": "stdout",
     "output_type": "stream",
     "text": [
      "+-------------+-----+\n",
      "|tweet_trackId|count|\n",
      "+-------------+-----+\n",
      "|       141574| 4387|\n",
      "|      1479214| 3331|\n",
      "|      2966419| 2742|\n",
      "|       141567| 2543|\n",
      "|      4098232| 2532|\n",
      "|     10608837| 2225|\n",
      "|      6213179| 2116|\n",
      "|      6213206| 2081|\n",
      "|      1210996| 1993|\n",
      "|       601022| 1941|\n",
      "|      2706055| 1868|\n",
      "|      6213223| 1851|\n",
      "|      4860214| 1540|\n",
      "|      8010733| 1536|\n",
      "|      1072515| 1525|\n",
      "|      6627282| 1509|\n",
      "|      1379803| 1482|\n",
      "|      5530557| 1480|\n",
      "|      1379821| 1468|\n",
      "|      2106361| 1432|\n",
      "+-------------+-----+\n",
      "only showing top 20 rows\n",
      "\n"
     ]
    }
   ],
   "source": [
    "data.groupby('tweet_trackId').count().sort('count', ascending=False).show(20)"
   ]
  },
  {
   "cell_type": "code",
   "execution_count": 37,
   "id": "cf603355",
   "metadata": {},
   "outputs": [
    {
     "name": "stdout",
     "output_type": "stream",
     "text": [
      "+-----------------------------+\n",
      "|count(DISTINCT tweet_trackId)|\n",
      "+-----------------------------+\n",
      "|                       134199|\n",
      "+-----------------------------+\n",
      "\n"
     ]
    }
   ],
   "source": [
    "# Użytkownicy\n",
    "data.agg(countDistinct('tweet_trackId')).show()"
   ]
  },
  {
   "cell_type": "code",
   "execution_count": 39,
   "id": "19cafd84-2449-474d-889a-cf7e28b6f9f0",
   "metadata": {},
   "outputs": [
    {
     "name": "stdout",
     "output_type": "stream",
     "text": [
      "+----------------------------+\n",
      "|count(DISTINCT tweet_userId)|\n",
      "+----------------------------+\n",
      "|                      215375|\n",
      "+----------------------------+\n",
      "\n"
     ]
    }
   ],
   "source": [
    "# Użytkownicy\n",
    "data.agg(countDistinct('tweet_userId')).show()"
   ]
  },
  {
   "cell_type": "code",
   "execution_count": 40,
   "id": "21f16e0d-e8dc-4329-91f3-6d58849fa44a",
   "metadata": {},
   "outputs": [
    {
     "name": "stdout",
     "output_type": "stream",
     "text": [
      "+------------------------------+\n",
      "|count(DISTINCT tweet_artistId)|\n",
      "+------------------------------+\n",
      "|                         25081|\n",
      "+------------------------------+\n",
      "\n"
     ]
    }
   ],
   "source": [
    "# Użytkownicy\n",
    "data.agg(countDistinct('tweet_artistId')).show()"
   ]
  },
  {
   "cell_type": "code",
   "execution_count": 75,
   "id": "e85fd8b4",
   "metadata": {},
   "outputs": [
    {
     "name": "stdout",
     "output_type": "stream",
     "text": [
      "+-------------------+\n",
      "|min(tweet_datetime)|\n",
      "+-------------------+\n",
      "|2011-11-09 12:18:57|\n",
      "+-------------------+\n",
      "\n"
     ]
    }
   ],
   "source": [
    "data.agg(spark_min('tweet_datetime')).show()"
   ]
  },
  {
   "cell_type": "code",
   "execution_count": 76,
   "id": "590fab74-eaa1-482b-9b11-ca781a770098",
   "metadata": {},
   "outputs": [
    {
     "name": "stdout",
     "output_type": "stream",
     "text": [
      "+-------------------+\n",
      "|max(tweet_datetime)|\n",
      "+-------------------+\n",
      "|2013-04-30 15:22:45|\n",
      "+-------------------+\n",
      "\n"
     ]
    }
   ],
   "source": [
    "data.agg(spark_max('tweet_datetime')).show()"
   ]
  },
  {
   "cell_type": "code",
   "execution_count": 89,
   "id": "63ed6317",
   "metadata": {},
   "outputs": [
    {
     "name": "stdout",
     "output_type": "stream",
     "text": [
      "+-------------+---------------+--------------+\n",
      "|tweet_trackId|tweet_longitude|tweet_latitude|\n",
      "+-------------+---------------+--------------+\n",
      "|       420585|       0.126573|       52.1976|\n",
      "|      2106213|       -80.1999|       36.0349|\n",
      "|      8030020|      -0.142822|       51.5207|\n",
      "|      1210996|        2.33475|       48.9009|\n",
      "|      4019560|        -47.818|      -21.2134|\n",
      "|       598309|       -81.4733|       41.4433|\n",
      "|      4814971|        3.35029|       6.57453|\n",
      "|      7946138|        -112.18|       33.5156|\n",
      "|      5494830|       -115.202|       36.2068|\n",
      "|      7194015|       -122.913|       49.1994|\n",
      "+-------------+---------------+--------------+\n",
      "only showing top 10 rows\n",
      "\n"
     ]
    }
   ],
   "source": [
    "df = data[['tweet_trackId', 'tweet_longitude', 'tweet_latitude']]\n",
    "df.show(10)"
   ]
  },
  {
   "cell_type": "code",
   "execution_count": 90,
   "id": "b41ff94c-f5e7-4a9e-9905-78bdff54148a",
   "metadata": {},
   "outputs": [
    {
     "name": "stdout",
     "output_type": "stream",
     "text": [
      "+-------------+---------------+--------------+-------------------+\n",
      "|tweet_trackId|tweet_longitude|tweet_latitude|           location|\n",
      "+-------------+---------------+--------------+-------------------+\n",
      "|       420585|       0.126573|       52.1976| [0.126573,52.1976]|\n",
      "|      2106213|       -80.1999|       36.0349| [-80.1999,36.0349]|\n",
      "|      8030020|      -0.142822|       51.5207|[-0.142822,51.5207]|\n",
      "|      1210996|        2.33475|       48.9009|  [2.33475,48.9009]|\n",
      "|      4019560|        -47.818|      -21.2134| [-47.818,-21.2134]|\n",
      "|       598309|       -81.4733|       41.4433| [-81.4733,41.4433]|\n",
      "|      4814971|        3.35029|       6.57453|  [3.35029,6.57453]|\n",
      "|      7946138|        -112.18|       33.5156|  [-112.18,33.5156]|\n",
      "|      5494830|       -115.202|       36.2068| [-115.202,36.2068]|\n",
      "|      7194015|       -122.913|       49.1994| [-122.913,49.1994]|\n",
      "+-------------+---------------+--------------+-------------------+\n",
      "only showing top 10 rows\n",
      "\n"
     ]
    }
   ],
   "source": [
    "assembler = VectorAssembler(inputCols=[\"tweet_longitude\", \"tweet_latitude\"], outputCol=\"location\")\n",
    "df = assembler.transform(df)\n",
    "df.show(10)"
   ]
  },
  {
   "cell_type": "code",
   "execution_count": 91,
   "id": "0d735352-0f65-435e-8aff-63ea4dbb0c0c",
   "metadata": {},
   "outputs": [],
   "source": [
    "def euclidean_distance(point1, point2):\n",
    "    return np.sqrt(np.sum((point1 - point2) ** 2))\n",
    "\n",
    "def knn_predict(df, point, k):\n",
    "    distances = df.rdd.map(lambda row: (row['tweet_trackId'], euclidean_distance(np.array(row['location']), np.array(point))))\n",
    "    sorted_distances = distances.sortBy(lambda x: x[1])\n",
    "    neighbors = sorted_distances.take(k)\n",
    "    \n",
    "    # Klasyfikacja na podstawie najczęściej występującej klasy w sąsiadach\n",
    "    labels = [neighbor[0] for neighbor in neighbors]\n",
    "    prediction = max(set(labels), key=labels.count)\n",
    "    \n",
    "    return prediction"
   ]
  },
  {
   "cell_type": "code",
   "execution_count": 92,
   "id": "785c60a1-c83b-48ca-818f-fdca60cfce2e",
   "metadata": {},
   "outputs": [
    {
     "name": "stdout",
     "output_type": "stream",
     "text": [
      "Predicted label for point [2.33475, 48.9009] is 44067\n",
      "CPU times: user 33.5 ms, sys: 22.4 ms, total: 55.9 ms\n",
      "Wall time: 33.7 s\n"
     ]
    }
   ],
   "source": [
    "%%time\n",
    "\n",
    "new_point = [2.33475, 48.9009]\n",
    "k = 10\n",
    "prediction = knn_predict(df, new_point, k)\n",
    "print(f\"Predicted label for point {new_point} is {prediction}\")"
   ]
  },
  {
   "cell_type": "markdown",
   "id": "cb6a01b6-1db2-4f30-ba72-659540a72fd6",
   "metadata": {},
   "source": [
    "# Adding new columns"
   ]
  },
  {
   "cell_type": "code",
   "execution_count": 6,
   "id": "c9207045-08fc-450f-a614-ba7be1471eab",
   "metadata": {},
   "outputs": [
    {
     "name": "stdout",
     "output_type": "stream",
     "text": [
      "+--------+------------------+------------+--------------+-------------+-------------------+-------------+---------------+--------------+\n",
      "|tweet_id|     tweet_tweetId|tweet_userId|tweet_artistId|tweet_trackId|     tweet_datetime|tweet_weekday|tweet_longitude|tweet_latitude|\n",
      "+--------+------------------+------------+--------------+-------------+-------------------+-------------+---------------+--------------+\n",
      "|       1|167408118735699971|    24842995|         25040|       420585|2012-02-09 00:43:00|            3|       0.126573|       52.1976|\n",
      "|       2|167408251737088000|    77147006|        122992|      2106213|2012-02-09 00:43:32|            3|       -80.1999|       36.0349|\n",
      "|       3|185189790390558720|   174626103|        468091|      8030020|2012-03-29 02:21:01|            3|      -0.142822|       51.5207|\n",
      "|       4|229940340692500480|   538669914|         67904|      1210996|2012-07-30 14:03:43|            0|        2.33475|       48.9009|\n",
      "|       5|167408424307523584|   245555020|        223140|      4019560|2012-02-09 00:44:13|            3|        -47.818|      -21.2134|\n",
      "|       6|167408497812709378|   265101134|         33886|       598309|2012-02-09 00:44:30|            3|       -81.4733|       41.4433|\n",
      "|       7|229941052465885184|   367586495|        271222|      4814971|2012-07-30 14:06:33|            0|        3.35029|       6.57453|\n",
      "|       8|185189977502658562|    76535932|        462593|      7946138|2012-03-29 02:21:45|            3|        -112.18|       33.5156|\n",
      "|       9|167408660010647552|    51342414|        314157|      5494830|2012-02-09 00:45:09|            3|       -115.202|       36.2068|\n",
      "|      10|167408669632376832|    26432623|         17082|      7194015|2012-02-09 00:45:11|            3|       -122.913|       49.1994|\n",
      "+--------+------------------+------------+--------------+-------------+-------------------+-------------+---------------+--------------+\n",
      "only showing top 10 rows\n",
      "\n"
     ]
    }
   ],
   "source": [
    "data.show(10)"
   ]
  },
  {
   "cell_type": "code",
   "execution_count": 53,
   "id": "686e2617-4548-4cc3-a785-f4fdd44c06a4",
   "metadata": {},
   "outputs": [
    {
     "name": "stdout",
     "output_type": "stream",
     "text": [
      "+--------+------------+--------------+-------------+-------------+---------------+--------------+-------------+-----+\n",
      "|tweet_id|tweet_userId|tweet_artistId|tweet_trackId|tweet_weekday|tweet_longitude|tweet_latitude|total_seconds|month|\n",
      "+--------+------------+--------------+-------------+-------------+---------------+--------------+-------------+-----+\n",
      "|       1|    24842995|         25040|       420585|            4|       0.126573|       52.1976|       2580.0|    2|\n",
      "|       2|    77147006|        122992|      2106213|            4|       -80.1999|       36.0349|       2612.0|    2|\n",
      "|       3|   174626103|        468091|      8030020|            4|      -0.142822|       51.5207|       8461.0|    3|\n",
      "|       4|   538669914|         67904|      1210996|            1|        2.33475|       48.9009|      50623.0|    7|\n",
      "|       5|   245555020|        223140|      4019560|            4|        -47.818|      -21.2134|       2653.0|    2|\n",
      "|       6|   265101134|         33886|       598309|            4|       -81.4733|       41.4433|       2670.0|    2|\n",
      "|       7|   367586495|        271222|      4814971|            1|        3.35029|       6.57453|      50793.0|    7|\n",
      "|       8|    76535932|        462593|      7946138|            4|        -112.18|       33.5156|       8505.0|    3|\n",
      "|       9|    51342414|        314157|      5494830|            4|       -115.202|       36.2068|       2709.0|    2|\n",
      "|      10|    26432623|         17082|      7194015|            4|       -122.913|       49.1994|       2711.0|    2|\n",
      "+--------+------------+--------------+-------------+-------------+---------------+--------------+-------------+-----+\n",
      "only showing top 10 rows\n",
      "\n"
     ]
    }
   ],
   "source": [
    "data_new = data.withColumn(\"total_seconds\", (hour(\"tweet_datetime\") * 3600 + minute(\"tweet_datetime\") * 60 + second(\"tweet_datetime\")).cast('double'))\n",
    "data_new = data_new.withColumn(\"month\", month(\"tweet_datetime\"))\n",
    "data_new = data_new.drop(\"tweet_tweetId\", \"tweet_datetime\")\n",
    "data_new = data_new.withColumn(\"tweet_weekday\", col(\"tweet_weekday\") + 1)\n",
    "data_new.show(10)"
   ]
  },
  {
   "cell_type": "markdown",
   "id": "456de96b-4048-4ac7-9017-db531428d7d1",
   "metadata": {},
   "source": [
    "# Encoding"
   ]
  },
  {
   "cell_type": "code",
   "execution_count": 128,
   "id": "b86b207f-e269-415f-a392-87317b14ac4b",
   "metadata": {},
   "outputs": [
    {
     "data": {
      "text/plain": [
       "['tweet_id',\n",
       " 'tweet_userId',\n",
       " 'tweet_artistId',\n",
       " 'tweet_trackId',\n",
       " 'tweet_weekday',\n",
       " 'tweet_longitude',\n",
       " 'tweet_latitude',\n",
       " 'total_seconds',\n",
       " 'month']"
      ]
     },
     "execution_count": 128,
     "metadata": {},
     "output_type": "execute_result"
    }
   ],
   "source": [
    "data_new.columns"
   ]
  },
  {
   "cell_type": "code",
   "execution_count": 198,
   "id": "fb17d229-0943-4ee5-a8ca-397cc72a2e41",
   "metadata": {},
   "outputs": [
    {
     "name": "stdout",
     "output_type": "stream",
     "text": [
      "+-------------+---------------+--------------+-------------+-----------------------+-----------------------+-----------------------+-----------------------+-----------------------+-----------------------+-----------------------+---------------+---------------+---------------+---------------+---------------+---------------+---------------+---------------+---------------+---------------+----------------+----------------+\n",
      "|tweet_trackId|tweet_longitude|tweet_latitude|total_seconds|tweet_weekday_encoded_0|tweet_weekday_encoded_1|tweet_weekday_encoded_2|tweet_weekday_encoded_3|tweet_weekday_encoded_4|tweet_weekday_encoded_5|tweet_weekday_encoded_6|month_encoded_0|month_encoded_1|month_encoded_2|month_encoded_3|month_encoded_4|month_encoded_5|month_encoded_6|month_encoded_7|month_encoded_8|month_encoded_9|month_encoded_10|month_encoded_11|\n",
      "+-------------+---------------+--------------+-------------+-----------------------+-----------------------+-----------------------+-----------------------+-----------------------+-----------------------+-----------------------+---------------+---------------+---------------+---------------+---------------+---------------+---------------+---------------+---------------+---------------+----------------+----------------+\n",
      "|       420585|       0.126573|       52.1976|       2580.0|                    0.0|                    0.0|                    1.0|                    0.0|                    0.0|                    0.0|                    0.0|            0.0|            0.0|            1.0|            0.0|            0.0|            0.0|            0.0|            0.0|            0.0|            0.0|             0.0|             0.0|\n",
      "|      2106213|       -80.1999|       36.0349|       2612.0|                    0.0|                    0.0|                    1.0|                    0.0|                    0.0|                    0.0|                    0.0|            0.0|            0.0|            1.0|            0.0|            0.0|            0.0|            0.0|            0.0|            0.0|            0.0|             0.0|             0.0|\n",
      "|      8030020|      -0.142822|       51.5207|       8461.0|                    0.0|                    0.0|                    1.0|                    0.0|                    0.0|                    0.0|                    0.0|            0.0|            0.0|            0.0|            1.0|            0.0|            0.0|            0.0|            0.0|            0.0|            0.0|             0.0|             0.0|\n",
      "|      1210996|        2.33475|       48.9009|      50623.0|                    1.0|                    0.0|                    0.0|                    0.0|                    0.0|                    0.0|                    0.0|            0.0|            0.0|            0.0|            0.0|            0.0|            0.0|            0.0|            0.0|            1.0|            0.0|             0.0|             0.0|\n",
      "|      4019560|        -47.818|      -21.2134|       2653.0|                    0.0|                    0.0|                    1.0|                    0.0|                    0.0|                    0.0|                    0.0|            0.0|            0.0|            1.0|            0.0|            0.0|            0.0|            0.0|            0.0|            0.0|            0.0|             0.0|             0.0|\n",
      "+-------------+---------------+--------------+-------------+-----------------------+-----------------------+-----------------------+-----------------------+-----------------------+-----------------------+-----------------------+---------------+---------------+---------------+---------------+---------------+---------------+---------------+---------------+---------------+---------------+----------------+----------------+\n",
      "only showing top 5 rows\n",
      "\n"
     ]
    }
   ],
   "source": [
    "# Zmienne numeryczne\n",
    "numeric_features = ['tweet_longitude', 'tweet_latitude', 'total_seconds']\n",
    "\n",
    "# Zmienne kategoryczne\n",
    "categorical_features = ['tweet_weekday', 'month']\n",
    "\n",
    "# Label (zmienna docelowa)\n",
    "label = 'tweet_trackId'\n",
    "\n",
    "# Indeksowanie zmiennych kategorycznych\n",
    "indexers = [StringIndexer(inputCol=column, outputCol=column + \"_index\") for column in categorical_features]\n",
    "\n",
    "# Użyj OneHotEncoder z opcją dropLast=False\n",
    "encoders = [OneHotEncoder(inputCol=column + \"_index\", outputCol=column + \"_encoded\", dropLast=False) for column in categorical_features]\n",
    "\n",
    "# Tworzenie pipeline\n",
    "pipeline = Pipeline(stages=indexers + encoders)\n",
    "\n",
    "# Dopasowanie pipeline do danych i przekształcenie danych\n",
    "model = pipeline.fit(data_new[['tweet_trackId', 'tweet_weekday','tweet_longitude', 'tweet_latitude', 'total_seconds', 'month']])\n",
    "data_new_2 = model.transform(data_new[['tweet_trackId', 'tweet_weekday','tweet_longitude', 'tweet_latitude', 'total_seconds', 'month']])\n",
    "\n",
    "for column in categorical_features:\n",
    "    # Konwersja wektora one-hot na tablicę\n",
    "    data_new_2 = data_new_2.withColumn(column + \"_encoded_array\", vector_to_array(col(column + \"_encoded\")))\n",
    "    # Dynamically select the one-hot encoded columns\n",
    "    encoded_columns = [col(f\"{column}_encoded_array\")[i].alias(f\"{column}_encoded_{i}\") for i in range(len(data_new_2.select(column + \"_encoded_array\").first()[0]))]\n",
    "    # Select all columns + the new one-hot encoded columns\n",
    "    data_new_2 = data_new_2.select(\"*\", *encoded_columns)\n",
    "\n",
    "    # Usuń kolumny pośrednie\n",
    "    data_new_2 = data_new_2.drop(column, column + \"_index\", column + \"_encoded\", column + \"_encoded_array\")\n",
    "\n",
    "data_new_2.show(5)"
   ]
  },
  {
   "cell_type": "code",
   "execution_count": 199,
   "id": "07bbe379-2255-44e1-ad3f-3a9944f7b1a7",
   "metadata": {},
   "outputs": [
    {
     "data": {
      "text/plain": [
       "DataFrame[tweet_trackId: int, tweet_longitude: double, tweet_latitude: double, total_seconds: double, tweet_weekday_encoded_0: double, tweet_weekday_encoded_1: double, tweet_weekday_encoded_2: double, tweet_weekday_encoded_3: double, tweet_weekday_encoded_4: double, tweet_weekday_encoded_5: double, tweet_weekday_encoded_6: double, month_encoded_0: double, month_encoded_1: double, month_encoded_2: double, month_encoded_3: double, month_encoded_4: double, month_encoded_5: double, month_encoded_6: double, month_encoded_7: double, month_encoded_8: double, month_encoded_9: double, month_encoded_10: double, month_encoded_11: double]"
      ]
     },
     "execution_count": 199,
     "metadata": {},
     "output_type": "execute_result"
    }
   ],
   "source": [
    "data_new_2"
   ]
  },
  {
   "cell_type": "markdown",
   "id": "71be679a-6fb0-474d-befa-fe375c2ff365",
   "metadata": {},
   "source": [
    "# Standarization"
   ]
  },
  {
   "cell_type": "code",
   "execution_count": 200,
   "id": "9300a308-b0dc-48b0-8cfe-d8e22c9cffa6",
   "metadata": {},
   "outputs": [
    {
     "data": {
      "text/plain": [
       "['tweet_longitude',\n",
       " 'tweet_latitude',\n",
       " 'total_seconds',\n",
       " 'tweet_weekday_encoded_0',\n",
       " 'tweet_weekday_encoded_1',\n",
       " 'tweet_weekday_encoded_2',\n",
       " 'tweet_weekday_encoded_3',\n",
       " 'tweet_weekday_encoded_4',\n",
       " 'tweet_weekday_encoded_5',\n",
       " 'tweet_weekday_encoded_6',\n",
       " 'month_encoded_0',\n",
       " 'month_encoded_1',\n",
       " 'month_encoded_2',\n",
       " 'month_encoded_3',\n",
       " 'month_encoded_4',\n",
       " 'month_encoded_5',\n",
       " 'month_encoded_6',\n",
       " 'month_encoded_7',\n",
       " 'month_encoded_8',\n",
       " 'month_encoded_9',\n",
       " 'month_encoded_10',\n",
       " 'month_encoded_11']"
      ]
     },
     "execution_count": 200,
     "metadata": {},
     "output_type": "execute_result"
    }
   ],
   "source": [
    "features = data_new_2.columns\n",
    "features.remove('tweet_trackId')\n",
    "features"
   ]
  },
  {
   "cell_type": "code",
   "execution_count": 201,
   "id": "fd6f218b-9e88-4e24-8c79-3c1f4c67fc2e",
   "metadata": {},
   "outputs": [
    {
     "name": "stdout",
     "output_type": "stream",
     "text": [
      "+--------------------+--------------------+\n",
      "|            features|     scaled_features|\n",
      "+--------------------+--------------------+\n",
      "|[0.126573,52.1976...|[0.00186958583067...|\n",
      "|[-80.1999,36.0349...|[-1.1846175460916...|\n",
      "|[-0.142822,51.520...|[-0.0021095967347...|\n",
      "|[2.33475,48.9009,...|[0.03448615042833...|\n",
      "|[-47.818,-21.2134...|[-0.7063106290532...|\n",
      "+--------------------+--------------------+\n",
      "only showing top 5 rows\n",
      "\n"
     ]
    }
   ],
   "source": [
    "df = data_new_2.withColumn(\"features\", array(*features))\n",
    "\n",
    "to_vector_udf = udf(lambda array: DenseVector(array), VectorUDT())\n",
    "\n",
    "df = df.withColumn(\"features\", to_vector_udf(df[\"features\"]))\n",
    "\n",
    "scaler = StandardScaler(inputCol=\"features\", outputCol=\"scaled_features\")\n",
    "\n",
    "model = scaler.fit(df)\n",
    "df = model.transform(df)\n",
    "\n",
    "df.select('features', 'scaled_features').show(5)"
   ]
  },
  {
   "cell_type": "code",
   "execution_count": 202,
   "id": "bc49771f-8daa-4ec8-b68b-b0af12e68eec",
   "metadata": {},
   "outputs": [
    {
     "data": {
      "text/plain": [
       "Row(features=DenseVector([0.1266, 52.1976, 2580.0, 0.0, 0.0, 1.0, 0.0, 0.0, 0.0, 0.0, 0.0, 0.0, 1.0, 0.0, 0.0, 0.0, 0.0, 0.0, 0.0, 0.0, 0.0, 0.0]), scaled_features=DenseVector([0.0019, 1.896, 0.104, 0.0, 0.0, 2.8492, 0.0, 0.0, 0.0, 0.0, 0.0, 0.0, 3.1823, 0.0, 0.0, 0.0, 0.0, 0.0, 0.0, 0.0, 0.0, 0.0]))"
      ]
     },
     "execution_count": 202,
     "metadata": {},
     "output_type": "execute_result"
    }
   ],
   "source": [
    "df.select('features', 'scaled_features').head(5)[0]"
   ]
  },
  {
   "cell_type": "code",
   "execution_count": 203,
   "id": "1114f30c-bb2d-4b00-ba06-b077b2104491",
   "metadata": {},
   "outputs": [
    {
     "data": {
      "text/plain": [
       "DataFrame[tweet_trackId: int, tweet_longitude: double, tweet_latitude: double, total_seconds: double, tweet_weekday_encoded_0: double, tweet_weekday_encoded_1: double, tweet_weekday_encoded_2: double, tweet_weekday_encoded_3: double, tweet_weekday_encoded_4: double, tweet_weekday_encoded_5: double, tweet_weekday_encoded_6: double, month_encoded_0: double, month_encoded_1: double, month_encoded_2: double, month_encoded_3: double, month_encoded_4: double, month_encoded_5: double, month_encoded_6: double, month_encoded_7: double, month_encoded_8: double, month_encoded_9: double, month_encoded_10: double, month_encoded_11: double, features: vector, scaled_features: vector]"
      ]
     },
     "execution_count": 203,
     "metadata": {},
     "output_type": "execute_result"
    }
   ],
   "source": [
    "df"
   ]
  },
  {
   "cell_type": "markdown",
   "id": "ebc91331-7c76-41ff-8a74-5245ddc1c552",
   "metadata": {},
   "source": [
    "# KNN"
   ]
  },
  {
   "cell_type": "code",
   "execution_count": 205,
   "id": "23eb1154-0010-4b93-98a3-2d03550916d5",
   "metadata": {},
   "outputs": [],
   "source": [
    "def euclidean_distance(point1, point2):\n",
    "    return np.sqrt(np.sum((point1 - point2) ** 2))\n",
    "\n",
    "def knn_predict(df, point, k):\n",
    "    distances = df.rdd.map(lambda row: (row['tweet_trackId'], euclidean_distance(np.array(row['scaled_features']), np.array(point))))\n",
    "    sorted_distances = distances.sortBy(lambda x: x[1])\n",
    "    neighbors = sorted_distances.take(k)\n",
    "    \n",
    "    # Klasyfikacja na podstawie najczęściej występującej klasy w sąsiadach\n",
    "    labels = [neighbor[0] for neighbor in neighbors]\n",
    "    prediction = max(set(labels), key=labels.count)\n",
    "    \n",
    "    return prediction"
   ]
  },
  {
   "cell_type": "code",
   "execution_count": 166,
   "id": "d50fe139-5732-4a34-93f7-cd792e4f09ae",
   "metadata": {},
   "outputs": [
    {
     "data": {
      "text/plain": [
       "420585"
      ]
     },
     "execution_count": 166,
     "metadata": {},
     "output_type": "execute_result"
    }
   ],
   "source": [
    "list(df.head(5)[0])[0]"
   ]
  },
  {
   "cell_type": "code",
   "execution_count": 162,
   "id": "3f5b4510-e28b-4075-8a3e-d12f2a638914",
   "metadata": {},
   "outputs": [
    {
     "data": {
      "text/plain": [
       "[0.126573,\n",
       " 52.1976,\n",
       " 2580.0,\n",
       " 0.0,\n",
       " 0.0,\n",
       " 1.0,\n",
       " 0.0,\n",
       " 0.0,\n",
       " 0.0,\n",
       " 0.0,\n",
       " 0.0,\n",
       " 0.0,\n",
       " 1.0,\n",
       " 0.0,\n",
       " 0.0,\n",
       " 0.0,\n",
       " 0.0,\n",
       " 0.0,\n",
       " 0.0,\n",
       " 0.0,\n",
       " 0.0,\n",
       " 0.0]"
      ]
     },
     "execution_count": 162,
     "metadata": {},
     "output_type": "execute_result"
    }
   ],
   "source": [
    "list(df.head(5)[0])[-1]"
   ]
  },
  {
   "cell_type": "code",
   "execution_count": 206,
   "id": "46654905-c2ba-468e-b271-6afc6ef0d0ee",
   "metadata": {},
   "outputs": [
    {
     "name": "stdout",
     "output_type": "stream",
     "text": [
      "tweet_trackId: 1231910\n",
      "CPU times: user 56.9 ms, sys: 9.19 ms, total: 66.1 ms\n",
      "Wall time: 1min 36s\n"
     ]
    }
   ],
   "source": [
    "%%time\n",
    "\n",
    "new_point = np.array(list(df.head(5)[0])[-1])\n",
    "k = 10\n",
    "prediction = knn_predict(df, new_point, k)\n",
    "print(\"tweet_trackId:\", prediction)"
   ]
  },
  {
   "cell_type": "code",
   "execution_count": 236,
   "id": "de1307ed-0018-4faf-8bcd-e26e669abaf6",
   "metadata": {},
   "outputs": [],
   "source": [
    "def euclidean_distance(point1, point2):\n",
    "    return np.sqrt(np.sum((point1 - point2) ** 2))\n",
    "\n",
    "def knn_predict(df, point, k):\n",
    "    distances = df.rdd.map(lambda row: (row['tweet_trackId'], euclidean_distance(np.array(row['scaled_features']), np.array(point))))\n",
    "    sorted_distances = distances.sortBy(lambda x: x[1])\n",
    "    neighbors = sorted_distances.take(k)\n",
    "    return neighbors\n",
    "    \n",
    "    # Klasyfikacja na podstawie najczęściej występującej klasy w sąsiadach\n",
    "    labels = np.array(x, dtype=int)[:, 0]\n",
    "    return max(set(labels), key=labels.count)"
   ]
  },
  {
   "cell_type": "code",
   "execution_count": 216,
   "id": "fbff00ca-09c5-4b91-9ea7-d296488ddff3",
   "metadata": {},
   "outputs": [
    {
     "name": "stdout",
     "output_type": "stream",
     "text": [
      "CPU times: user 42.7 ms, sys: 15.3 ms, total: 58 ms\n",
      "Wall time: 1min 41s\n"
     ]
    },
    {
     "data": {
      "text/plain": [
       "[(420585, 0.0),\n",
       " (1479214, 0.016348467588064672),\n",
       " (5240295, 0.024065119368573442),\n",
       " (3256970, 0.024908307711726408),\n",
       " (4128619, 0.02490866639313596),\n",
       " (9769460, 0.025187946250050924),\n",
       " (1478230, 0.025231472478986047),\n",
       " (6832605, 0.025520938375185286),\n",
       " (1231910, 0.025538626883347754),\n",
       " (4119415, 0.025596127709824158)]"
      ]
     },
     "execution_count": 216,
     "metadata": {},
     "output_type": "execute_result"
    }
   ],
   "source": [
    "%%time\n",
    "\n",
    "new_point = np.array(list(df.head(5)[0])[-1])\n",
    "k = 10\n",
    "prediction = knn_predict(df, new_point, k)\n",
    "prediction"
   ]
  },
  {
   "cell_type": "code",
   "execution_count": 243,
   "id": "1b751895-8dc5-4078-a40c-3a1e4f9e55fe",
   "metadata": {},
   "outputs": [
    {
     "data": {
      "text/plain": [
       "[(420585, 0.0),\n",
       " (1479214, 0.016348467588064672),\n",
       " (5240295, 0.024065119368573442),\n",
       " (3256970, 0.024908307711726408),\n",
       " (4128619, 0.02490866639313596),\n",
       " (420585, 0.025187946250050924),\n",
       " (1478230, 0.025231472478986047),\n",
       " (6832605, 0.025520938375185286),\n",
       " (1231910, 0.025538626883347754),\n",
       " (4119415, 0.025596127709824158)]"
      ]
     },
     "execution_count": 243,
     "metadata": {},
     "output_type": "execute_result"
    }
   ],
   "source": [
    "x = [(420585, 0.0),\n",
    " (1479214, 0.016348467588064672),\n",
    " (5240295, 0.024065119368573442),\n",
    " (3256970, 0.024908307711726408),\n",
    " (4128619, 0.02490866639313596),\n",
    " (420585, 0.025187946250050924),\n",
    " (1478230, 0.025231472478986047),\n",
    " (6832605, 0.025520938375185286),\n",
    " (1231910, 0.025538626883347754),\n",
    " (4119415, 0.025596127709824158)]\n",
    "x"
   ]
  },
  {
   "cell_type": "code",
   "execution_count": 244,
   "id": "ebfb0e30-84a7-4506-bc1a-9a9146b789fd",
   "metadata": {},
   "outputs": [
    {
     "data": {
      "text/plain": [
       "{420585,\n",
       " 1231910,\n",
       " 1478230,\n",
       " 1479214,\n",
       " 3256970,\n",
       " 4119415,\n",
       " 4128619,\n",
       " 5240295,\n",
       " 6832605}"
      ]
     },
     "execution_count": 244,
     "metadata": {},
     "output_type": "execute_result"
    }
   ],
   "source": [
    "labels = np.array(x, dtype=int)[:, 0]\n",
    "set(labels)"
   ]
  },
  {
   "cell_type": "code",
   "execution_count": 232,
   "id": "076d47e2-b24c-4178-b83b-717a8b4d4940",
   "metadata": {},
   "outputs": [
    {
     "data": {
      "text/plain": [
       "{420585,\n",
       " 1231910,\n",
       " 1478230,\n",
       " 1479214,\n",
       " 3256970,\n",
       " 4119415,\n",
       " 4128619,\n",
       " 5240295,\n",
       " 6832605}"
      ]
     },
     "execution_count": 232,
     "metadata": {},
     "output_type": "execute_result"
    }
   ],
   "source": [
    "labels = [neighbor[0] for neighbor in x]\n",
    "#(set(labels), labels.count)\n",
    "set(labels)"
   ]
  },
  {
   "cell_type": "code",
   "execution_count": 235,
   "id": "e05c6736-3c28-4783-a852-39ec171b7c94",
   "metadata": {},
   "outputs": [
    {
     "data": {
      "text/plain": [
       "0"
      ]
     },
     "execution_count": 235,
     "metadata": {},
     "output_type": "execute_result"
    }
   ],
   "source": [
    "labels.count(147914)"
   ]
  }
 ],
 "metadata": {
  "kernelspec": {
   "display_name": "Python 3 (ipykernel)",
   "language": "python",
   "name": "python3"
  },
  "language_info": {
   "codemirror_mode": {
    "name": "ipython",
    "version": 3
   },
   "file_extension": ".py",
   "mimetype": "text/x-python",
   "name": "python",
   "nbconvert_exporter": "python",
   "pygments_lexer": "ipython3",
   "version": "3.11.6"
  }
 },
 "nbformat": 4,
 "nbformat_minor": 5
}
