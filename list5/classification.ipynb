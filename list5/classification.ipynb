{
 "cells": [
  {
   "cell_type": "code",
   "execution_count": 69,
   "id": "9684b2da-23a6-4ef6-87c2-052bed6e0df6",
   "metadata": {},
   "outputs": [],
   "source": [
    "import pandas as pd\n",
    "import seaborn as sns\n",
    "import matplotlib.pyplot as plt\n",
    "from pyspark.sql import SparkSession\n",
    "from pyspark.ml import Pipeline\n",
    "from pyspark.ml.feature import StringIndexer, OneHotEncoder, VectorAssembler, VectorIndexer\n",
    "from pyspark.ml.classification import LogisticRegression, DecisionTreeClassifier, RandomForestClassifier\n",
    "from pyspark.ml.evaluation import BinaryClassificationEvaluator"
   ]
  },
  {
   "cell_type": "code",
   "execution_count": 3,
   "id": "8c3a5944-8da0-45b6-afdb-fee678c6e228",
   "metadata": {},
   "outputs": [],
   "source": [
    "spark = SparkSession.builder.appName('xxxx').getOrCreate()"
   ]
  },
  {
   "cell_type": "code",
   "execution_count": 4,
   "id": "662500ac-000c-4779-8873-4971fa3b1e71",
   "metadata": {},
   "outputs": [
    {
     "name": "stdout",
     "output_type": "stream",
     "text": [
      "root\n",
      " |-- age: integer (nullable = true)\n",
      " |-- job: string (nullable = true)\n",
      " |-- marital: string (nullable = true)\n",
      " |-- education: string (nullable = true)\n",
      " |-- default: string (nullable = true)\n",
      " |-- balance: integer (nullable = true)\n",
      " |-- housing: string (nullable = true)\n",
      " |-- loan: string (nullable = true)\n",
      " |-- contact: string (nullable = true)\n",
      " |-- day: integer (nullable = true)\n",
      " |-- month: string (nullable = true)\n",
      " |-- duration: integer (nullable = true)\n",
      " |-- campaign: integer (nullable = true)\n",
      " |-- pdays: integer (nullable = true)\n",
      " |-- previous: integer (nullable = true)\n",
      " |-- poutcome: string (nullable = true)\n",
      " |-- deposit: string (nullable = true)\n",
      "\n"
     ]
    }
   ],
   "source": [
    "df = spark.read.csv('bank.csv', header = True, inferSchema = True)\n",
    "df.printSchema()"
   ]
  },
  {
   "cell_type": "markdown",
   "id": "4d799af5-7b30-46c3-bba1-3bbe68109699",
   "metadata": {},
   "source": [
    "#### Aim\n",
    "The aim is to predict whether the client will subscribe to a term deposit.\n",
    "#### Features\n",
    "- categorical (9): job, marital, education, default, housing, loan, contact, month, poutcome\n",
    "- numeric (7): age, balance, day, duration, campaign, pdays, previous"
   ]
  },
  {
   "cell_type": "code",
   "execution_count": 5,
   "id": "ef8a7d26-4499-4022-b80d-6a6b12109f37",
   "metadata": {},
   "outputs": [
    {
     "name": "stdout",
     "output_type": "stream",
     "text": [
      "+---+-----------+--------+---------+-------+-------+-------+----+-------+---+-----+--------+--------+-----+--------+--------+-------+\n",
      "|age|        job| marital|education|default|balance|housing|loan|contact|day|month|duration|campaign|pdays|previous|poutcome|deposit|\n",
      "+---+-----------+--------+---------+-------+-------+-------+----+-------+---+-----+--------+--------+-----+--------+--------+-------+\n",
      "| 59|     admin.| married|secondary|     no|   2343|    yes|  no|unknown|  5|  may|    1042|       1|   -1|       0| unknown|    yes|\n",
      "| 56|     admin.| married|secondary|     no|     45|     no|  no|unknown|  5|  may|    1467|       1|   -1|       0| unknown|    yes|\n",
      "| 41| technician| married|secondary|     no|   1270|    yes|  no|unknown|  5|  may|    1389|       1|   -1|       0| unknown|    yes|\n",
      "| 55|   services| married|secondary|     no|   2476|    yes|  no|unknown|  5|  may|     579|       1|   -1|       0| unknown|    yes|\n",
      "| 54|     admin.| married| tertiary|     no|    184|     no|  no|unknown|  5|  may|     673|       2|   -1|       0| unknown|    yes|\n",
      "| 42| management|  single| tertiary|     no|      0|    yes| yes|unknown|  5|  may|     562|       2|   -1|       0| unknown|    yes|\n",
      "| 56| management| married| tertiary|     no|    830|    yes| yes|unknown|  6|  may|    1201|       1|   -1|       0| unknown|    yes|\n",
      "| 60|    retired|divorced|secondary|     no|    545|    yes|  no|unknown|  6|  may|    1030|       1|   -1|       0| unknown|    yes|\n",
      "| 37| technician| married|secondary|     no|      1|    yes|  no|unknown|  6|  may|     608|       1|   -1|       0| unknown|    yes|\n",
      "| 28|   services|  single|secondary|     no|   5090|    yes|  no|unknown|  6|  may|    1297|       3|   -1|       0| unknown|    yes|\n",
      "| 38|     admin.|  single|secondary|     no|    100|    yes|  no|unknown|  7|  may|     786|       1|   -1|       0| unknown|    yes|\n",
      "| 30|blue-collar| married|secondary|     no|    309|    yes|  no|unknown|  7|  may|    1574|       2|   -1|       0| unknown|    yes|\n",
      "| 29| management| married| tertiary|     no|    199|    yes| yes|unknown|  7|  may|    1689|       4|   -1|       0| unknown|    yes|\n",
      "| 46|blue-collar|  single| tertiary|     no|    460|    yes|  no|unknown|  7|  may|    1102|       2|   -1|       0| unknown|    yes|\n",
      "| 31| technician|  single| tertiary|     no|    703|    yes|  no|unknown|  8|  may|     943|       2|   -1|       0| unknown|    yes|\n",
      "| 35| management|divorced| tertiary|     no|   3837|    yes|  no|unknown|  8|  may|    1084|       1|   -1|       0| unknown|    yes|\n",
      "| 32|blue-collar|  single|  primary|     no|    611|    yes|  no|unknown|  8|  may|     541|       3|   -1|       0| unknown|    yes|\n",
      "| 49|   services| married|secondary|     no|     -8|    yes|  no|unknown|  8|  may|    1119|       1|   -1|       0| unknown|    yes|\n",
      "| 41|     admin.| married|secondary|     no|     55|    yes|  no|unknown|  8|  may|    1120|       2|   -1|       0| unknown|    yes|\n",
      "| 49|     admin.|divorced|secondary|     no|    168|    yes| yes|unknown|  8|  may|     513|       1|   -1|       0| unknown|    yes|\n",
      "+---+-----------+--------+---------+-------+-------+-------+----+-------+---+-----+--------+--------+-----+--------+--------+-------+\n",
      "only showing top 20 rows\n",
      "\n"
     ]
    }
   ],
   "source": [
    "df.show()"
   ]
  },
  {
   "cell_type": "markdown",
   "id": "abf7af74-1476-4df1-8dfc-5fb07cd56192",
   "metadata": {},
   "source": [
    "#### EDA\n",
    "Checking whether class are balanced"
   ]
  },
  {
   "cell_type": "code",
   "execution_count": 6,
   "id": "9a9d0472-e051-4aba-b35d-fcc3fabb4603",
   "metadata": {},
   "outputs": [
    {
     "data": {
      "text/plain": [
       "deposit\n",
       "no     5873\n",
       "yes    5289\n",
       "dtype: int64"
      ]
     },
     "execution_count": 6,
     "metadata": {},
     "output_type": "execute_result"
    }
   ],
   "source": [
    "df.toPandas().groupby(['deposit']).size()"
   ]
  },
  {
   "cell_type": "code",
   "execution_count": 8,
   "id": "3256b518-8bf4-45fb-abb9-e91f5167f8e8",
   "metadata": {},
   "outputs": [
    {
     "data": {
      "text/html": [
       "<div>\n",
       "<style scoped>\n",
       "    .dataframe tbody tr th:only-of-type {\n",
       "        vertical-align: middle;\n",
       "    }\n",
       "\n",
       "    .dataframe tbody tr th {\n",
       "        vertical-align: top;\n",
       "    }\n",
       "\n",
       "    .dataframe thead th {\n",
       "        text-align: right;\n",
       "    }\n",
       "</style>\n",
       "<table border=\"1\" class=\"dataframe\">\n",
       "  <thead>\n",
       "    <tr style=\"text-align: right;\">\n",
       "      <th></th>\n",
       "      <th>age</th>\n",
       "      <th>balance</th>\n",
       "      <th>day</th>\n",
       "      <th>duration</th>\n",
       "      <th>campaign</th>\n",
       "      <th>pdays</th>\n",
       "      <th>previous</th>\n",
       "    </tr>\n",
       "  </thead>\n",
       "  <tbody>\n",
       "    <tr>\n",
       "      <th>count</th>\n",
       "      <td>11162.000000</td>\n",
       "      <td>11162.000000</td>\n",
       "      <td>11162.000000</td>\n",
       "      <td>11162.000000</td>\n",
       "      <td>11162.000000</td>\n",
       "      <td>11162.000000</td>\n",
       "      <td>11162.000000</td>\n",
       "    </tr>\n",
       "    <tr>\n",
       "      <th>mean</th>\n",
       "      <td>41.231948</td>\n",
       "      <td>1528.538524</td>\n",
       "      <td>15.658036</td>\n",
       "      <td>371.993818</td>\n",
       "      <td>2.508421</td>\n",
       "      <td>51.330407</td>\n",
       "      <td>0.832557</td>\n",
       "    </tr>\n",
       "    <tr>\n",
       "      <th>std</th>\n",
       "      <td>11.913369</td>\n",
       "      <td>3225.413326</td>\n",
       "      <td>8.420740</td>\n",
       "      <td>347.128386</td>\n",
       "      <td>2.722077</td>\n",
       "      <td>108.758282</td>\n",
       "      <td>2.292007</td>\n",
       "    </tr>\n",
       "    <tr>\n",
       "      <th>min</th>\n",
       "      <td>18.000000</td>\n",
       "      <td>-6847.000000</td>\n",
       "      <td>1.000000</td>\n",
       "      <td>2.000000</td>\n",
       "      <td>1.000000</td>\n",
       "      <td>-1.000000</td>\n",
       "      <td>0.000000</td>\n",
       "    </tr>\n",
       "    <tr>\n",
       "      <th>25%</th>\n",
       "      <td>32.000000</td>\n",
       "      <td>122.000000</td>\n",
       "      <td>8.000000</td>\n",
       "      <td>138.000000</td>\n",
       "      <td>1.000000</td>\n",
       "      <td>-1.000000</td>\n",
       "      <td>0.000000</td>\n",
       "    </tr>\n",
       "    <tr>\n",
       "      <th>50%</th>\n",
       "      <td>39.000000</td>\n",
       "      <td>550.000000</td>\n",
       "      <td>15.000000</td>\n",
       "      <td>255.000000</td>\n",
       "      <td>2.000000</td>\n",
       "      <td>-1.000000</td>\n",
       "      <td>0.000000</td>\n",
       "    </tr>\n",
       "    <tr>\n",
       "      <th>75%</th>\n",
       "      <td>49.000000</td>\n",
       "      <td>1708.000000</td>\n",
       "      <td>22.000000</td>\n",
       "      <td>496.000000</td>\n",
       "      <td>3.000000</td>\n",
       "      <td>20.750000</td>\n",
       "      <td>1.000000</td>\n",
       "    </tr>\n",
       "    <tr>\n",
       "      <th>max</th>\n",
       "      <td>95.000000</td>\n",
       "      <td>81204.000000</td>\n",
       "      <td>31.000000</td>\n",
       "      <td>3881.000000</td>\n",
       "      <td>63.000000</td>\n",
       "      <td>854.000000</td>\n",
       "      <td>58.000000</td>\n",
       "    </tr>\n",
       "  </tbody>\n",
       "</table>\n",
       "</div>"
      ],
      "text/plain": [
       "                age       balance           day      duration      campaign  \\\n",
       "count  11162.000000  11162.000000  11162.000000  11162.000000  11162.000000   \n",
       "mean      41.231948   1528.538524     15.658036    371.993818      2.508421   \n",
       "std       11.913369   3225.413326      8.420740    347.128386      2.722077   \n",
       "min       18.000000  -6847.000000      1.000000      2.000000      1.000000   \n",
       "25%       32.000000    122.000000      8.000000    138.000000      1.000000   \n",
       "50%       39.000000    550.000000     15.000000    255.000000      2.000000   \n",
       "75%       49.000000   1708.000000     22.000000    496.000000      3.000000   \n",
       "max       95.000000  81204.000000     31.000000   3881.000000     63.000000   \n",
       "\n",
       "              pdays      previous  \n",
       "count  11162.000000  11162.000000  \n",
       "mean      51.330407      0.832557  \n",
       "std      108.758282      2.292007  \n",
       "min       -1.000000      0.000000  \n",
       "25%       -1.000000      0.000000  \n",
       "50%       -1.000000      0.000000  \n",
       "75%       20.750000      1.000000  \n",
       "max      854.000000     58.000000  "
      ]
     },
     "execution_count": 8,
     "metadata": {},
     "output_type": "execute_result"
    }
   ],
   "source": [
    "df.toPandas().describe()"
   ]
  },
  {
   "cell_type": "markdown",
   "id": "3a1f11b6-1b1b-4bb9-97f4-253511513af9",
   "metadata": {},
   "source": [
    "#### Correlations"
   ]
  },
  {
   "cell_type": "code",
   "execution_count": 13,
   "id": "c0a99fb5-4249-4faf-a392-9ce91caa555e",
   "metadata": {},
   "outputs": [
    {
     "data": {
      "image/png": "[encoded data removed]",
      "text/plain": [
       "<Figure size 1000x700 with 2 Axes>"
      ]
     },
     "metadata": {},
     "output_type": "display_data"
    }
   ],
   "source": [
    "fig, ax = plt.subplots(figsize = (10,7))\n",
    "sns.heatmap(df.toPandas().dropna().corr(numeric_only=True), annot=True)\n",
    "plt.show()"
   ]
  },
  {
   "cell_type": "markdown",
   "id": "246b8e51-b27d-489f-a883-ffdb096932ca",
   "metadata": {},
   "source": [
    "There are not any high correlation, so we will keep all features. However, *day* and *month* will not be very useful, thus we will drop them."
   ]
  },
  {
   "cell_type": "code",
   "execution_count": 17,
   "id": "4f276950-91ee-4fc6-ae10-6a61b3dfc207",
   "metadata": {},
   "outputs": [],
   "source": [
    "df = df.drop('day','month')\n",
    "cols = df.columns"
   ]
  },
  {
   "cell_type": "markdown",
   "id": "b166c20b-3164-4bed-8cd8-0bde555ca316",
   "metadata": {},
   "source": [
    "#### Prepare data"
   ]
  },
  {
   "cell_type": "code",
   "execution_count": 25,
   "id": "bd79ab9c-c1bc-4bb9-b2eb-c1f2ab8c862a",
   "metadata": {},
   "outputs": [],
   "source": [
    "all_stages = []\n",
    "categor_cols = ['job', 'marital', 'education', 'default', 'housing', 'loan', 'contact', 'poutcome']\n",
    "\n",
    "for categor_col in categor_cols:\n",
    "    stringIndexer = StringIndexer(inputCol = categor_col, outputCol = categor_col + '_idx')\n",
    "    encoder = OneHotEncoder(\n",
    "        inputCols=[stringIndexer.getOutputCol()], \n",
    "        outputCols=[categor_col + \"_class_vec\"])\n",
    "    all_stages += [stringIndexer, encoder]\n",
    "\n",
    "\n",
    "label_string_idx = StringIndexer(inputCol = 'deposit', outputCol = 'label')\n",
    "all_stages += [label_string_idx]\n",
    "\n",
    "numeric_cols = ['age', 'balance', 'duration', 'campaign', 'pdays', 'previous']\n",
    "assembler_inputs = [c + \"_class_vec\" for c in categor_cols] + numeric_cols\n",
    "assembler = VectorAssembler(inputCols=assembler_inputs, outputCol=\"features\")\n",
    "all_stages += [assembler]"
   ]
  },
  {
   "cell_type": "code",
   "execution_count": 26,
   "id": "08a1aa1b-28d9-48d8-9837-8f2405575193",
   "metadata": {},
   "outputs": [],
   "source": [
    "df2 = Pipeline(stages=all_stages).fit(df).transform(df)"
   ]
  },
  {
   "cell_type": "code",
   "execution_count": 28,
   "id": "9ccfcf51-af84-4775-a67f-6473fe7f4be8",
   "metadata": {
    "scrolled": true
   },
   "outputs": [
    {
     "name": "stdout",
     "output_type": "stream",
     "text": [
      "+---+-----------+--------+---------+-------+-------+-------+----+-------+--------+--------+-----+--------+--------+-------+-------+--------------+-----------+-----------------+-------------+-------------------+-----------+-----------------+-----------+-----------------+--------+--------------+-----------+-----------------+------------+------------------+-----+--------------------+\n",
      "|age|        job| marital|education|default|balance|housing|loan|contact|duration|campaign|pdays|previous|poutcome|deposit|job_idx| job_class_vec|marital_idx|marital_class_vec|education_idx|education_class_vec|default_idx|default_class_vec|housing_idx|housing_class_vec|loan_idx|loan_class_vec|contact_idx|contact_class_vec|poutcome_idx|poutcome_class_vec|label|            features|\n",
      "+---+-----------+--------+---------+-------+-------+-------+----+-------+--------+--------+-----+--------+--------+-------+-------+--------------+-----------+-----------------+-------------+-------------------+-----------+-----------------+-----------+-----------------+--------+--------------+-----------+-----------------+------------+------------------+-----+--------------------+\n",
      "| 59|     admin.| married|secondary|     no|   2343|    yes|  no|unknown|    1042|       1|   -1|       0| unknown|    yes|    3.0|(11,[3],[1.0])|        0.0|    (2,[0],[1.0])|          0.0|      (3,[0],[1.0])|        0.0|    (1,[0],[1.0])|        1.0|        (1,[],[])|     0.0| (1,[0],[1.0])|        1.0|    (2,[1],[1.0])|         0.0|     (3,[0],[1.0])|  1.0|(30,[3,11,13,16,1...|\n",
      "| 56|     admin.| married|secondary|     no|     45|     no|  no|unknown|    1467|       1|   -1|       0| unknown|    yes|    3.0|(11,[3],[1.0])|        0.0|    (2,[0],[1.0])|          0.0|      (3,[0],[1.0])|        0.0|    (1,[0],[1.0])|        0.0|    (1,[0],[1.0])|     0.0| (1,[0],[1.0])|        1.0|    (2,[1],[1.0])|         0.0|     (3,[0],[1.0])|  1.0|(30,[3,11,13,16,1...|\n",
      "| 41| technician| married|secondary|     no|   1270|    yes|  no|unknown|    1389|       1|   -1|       0| unknown|    yes|    2.0|(11,[2],[1.0])|        0.0|    (2,[0],[1.0])|          0.0|      (3,[0],[1.0])|        0.0|    (1,[0],[1.0])|        1.0|        (1,[],[])|     0.0| (1,[0],[1.0])|        1.0|    (2,[1],[1.0])|         0.0|     (3,[0],[1.0])|  1.0|(30,[2,11,13,16,1...|\n",
      "| 55|   services| married|secondary|     no|   2476|    yes|  no|unknown|     579|       1|   -1|       0| unknown|    yes|    4.0|(11,[4],[1.0])|        0.0|    (2,[0],[1.0])|          0.0|      (3,[0],[1.0])|        0.0|    (1,[0],[1.0])|        1.0|        (1,[],[])|     0.0| (1,[0],[1.0])|        1.0|    (2,[1],[1.0])|         0.0|     (3,[0],[1.0])|  1.0|(30,[4,11,13,16,1...|\n",
      "| 54|     admin.| married| tertiary|     no|    184|     no|  no|unknown|     673|       2|   -1|       0| unknown|    yes|    3.0|(11,[3],[1.0])|        0.0|    (2,[0],[1.0])|          1.0|      (3,[1],[1.0])|        0.0|    (1,[0],[1.0])|        0.0|    (1,[0],[1.0])|     0.0| (1,[0],[1.0])|        1.0|    (2,[1],[1.0])|         0.0|     (3,[0],[1.0])|  1.0|(30,[3,11,14,16,1...|\n",
      "| 42| management|  single| tertiary|     no|      0|    yes| yes|unknown|     562|       2|   -1|       0| unknown|    yes|    0.0|(11,[0],[1.0])|        1.0|    (2,[1],[1.0])|          1.0|      (3,[1],[1.0])|        0.0|    (1,[0],[1.0])|        1.0|        (1,[],[])|     1.0|     (1,[],[])|        1.0|    (2,[1],[1.0])|         0.0|     (3,[0],[1.0])|  1.0|(30,[0,12,14,16,2...|\n",
      "| 56| management| married| tertiary|     no|    830|    yes| yes|unknown|    1201|       1|   -1|       0| unknown|    yes|    0.0|(11,[0],[1.0])|        0.0|    (2,[0],[1.0])|          1.0|      (3,[1],[1.0])|        0.0|    (1,[0],[1.0])|        1.0|        (1,[],[])|     1.0|     (1,[],[])|        1.0|    (2,[1],[1.0])|         0.0|     (3,[0],[1.0])|  1.0|(30,[0,11,14,16,2...|\n",
      "| 60|    retired|divorced|secondary|     no|    545|    yes|  no|unknown|    1030|       1|   -1|       0| unknown|    yes|    5.0|(11,[5],[1.0])|        2.0|        (2,[],[])|          0.0|      (3,[0],[1.0])|        0.0|    (1,[0],[1.0])|        1.0|        (1,[],[])|     0.0| (1,[0],[1.0])|        1.0|    (2,[1],[1.0])|         0.0|     (3,[0],[1.0])|  1.0|(30,[5,13,16,18,2...|\n",
      "| 37| technician| married|secondary|     no|      1|    yes|  no|unknown|     608|       1|   -1|       0| unknown|    yes|    2.0|(11,[2],[1.0])|        0.0|    (2,[0],[1.0])|          0.0|      (3,[0],[1.0])|        0.0|    (1,[0],[1.0])|        1.0|        (1,[],[])|     0.0| (1,[0],[1.0])|        1.0|    (2,[1],[1.0])|         0.0|     (3,[0],[1.0])|  1.0|(30,[2,11,13,16,1...|\n",
      "| 28|   services|  single|secondary|     no|   5090|    yes|  no|unknown|    1297|       3|   -1|       0| unknown|    yes|    4.0|(11,[4],[1.0])|        1.0|    (2,[1],[1.0])|          0.0|      (3,[0],[1.0])|        0.0|    (1,[0],[1.0])|        1.0|        (1,[],[])|     0.0| (1,[0],[1.0])|        1.0|    (2,[1],[1.0])|         0.0|     (3,[0],[1.0])|  1.0|(30,[4,12,13,16,1...|\n",
      "| 38|     admin.|  single|secondary|     no|    100|    yes|  no|unknown|     786|       1|   -1|       0| unknown|    yes|    3.0|(11,[3],[1.0])|        1.0|    (2,[1],[1.0])|          0.0|      (3,[0],[1.0])|        0.0|    (1,[0],[1.0])|        1.0|        (1,[],[])|     0.0| (1,[0],[1.0])|        1.0|    (2,[1],[1.0])|         0.0|     (3,[0],[1.0])|  1.0|(30,[3,12,13,16,1...|\n",
      "| 30|blue-collar| married|secondary|     no|    309|    yes|  no|unknown|    1574|       2|   -1|       0| unknown|    yes|    1.0|(11,[1],[1.0])|        0.0|    (2,[0],[1.0])|          0.0|      (3,[0],[1.0])|        0.0|    (1,[0],[1.0])|        1.0|        (1,[],[])|     0.0| (1,[0],[1.0])|        1.0|    (2,[1],[1.0])|         0.0|     (3,[0],[1.0])|  1.0|(30,[1,11,13,16,1...|\n",
      "| 29| management| married| tertiary|     no|    199|    yes| yes|unknown|    1689|       4|   -1|       0| unknown|    yes|    0.0|(11,[0],[1.0])|        0.0|    (2,[0],[1.0])|          1.0|      (3,[1],[1.0])|        0.0|    (1,[0],[1.0])|        1.0|        (1,[],[])|     1.0|     (1,[],[])|        1.0|    (2,[1],[1.0])|         0.0|     (3,[0],[1.0])|  1.0|(30,[0,11,14,16,2...|\n",
      "| 46|blue-collar|  single| tertiary|     no|    460|    yes|  no|unknown|    1102|       2|   -1|       0| unknown|    yes|    1.0|(11,[1],[1.0])|        1.0|    (2,[1],[1.0])|          1.0|      (3,[1],[1.0])|        0.0|    (1,[0],[1.0])|        1.0|        (1,[],[])|     0.0| (1,[0],[1.0])|        1.0|    (2,[1],[1.0])|         0.0|     (3,[0],[1.0])|  1.0|(30,[1,12,14,16,1...|\n",
      "| 31| technician|  single| tertiary|     no|    703|    yes|  no|unknown|     943|       2|   -1|       0| unknown|    yes|    2.0|(11,[2],[1.0])|        1.0|    (2,[1],[1.0])|          1.0|      (3,[1],[1.0])|        0.0|    (1,[0],[1.0])|        1.0|        (1,[],[])|     0.0| (1,[0],[1.0])|        1.0|    (2,[1],[1.0])|         0.0|     (3,[0],[1.0])|  1.0|(30,[2,12,14,16,1...|\n",
      "| 35| management|divorced| tertiary|     no|   3837|    yes|  no|unknown|    1084|       1|   -1|       0| unknown|    yes|    0.0|(11,[0],[1.0])|        2.0|        (2,[],[])|          1.0|      (3,[1],[1.0])|        0.0|    (1,[0],[1.0])|        1.0|        (1,[],[])|     0.0| (1,[0],[1.0])|        1.0|    (2,[1],[1.0])|         0.0|     (3,[0],[1.0])|  1.0|(30,[0,14,16,18,2...|\n",
      "| 32|blue-collar|  single|  primary|     no|    611|    yes|  no|unknown|     541|       3|   -1|       0| unknown|    yes|    1.0|(11,[1],[1.0])|        1.0|    (2,[1],[1.0])|          2.0|      (3,[2],[1.0])|        0.0|    (1,[0],[1.0])|        1.0|        (1,[],[])|     0.0| (1,[0],[1.0])|        1.0|    (2,[1],[1.0])|         0.0|     (3,[0],[1.0])|  1.0|(30,[1,12,15,16,1...|\n",
      "| 49|   services| married|secondary|     no|     -8|    yes|  no|unknown|    1119|       1|   -1|       0| unknown|    yes|    4.0|(11,[4],[1.0])|        0.0|    (2,[0],[1.0])|          0.0|      (3,[0],[1.0])|        0.0|    (1,[0],[1.0])|        1.0|        (1,[],[])|     0.0| (1,[0],[1.0])|        1.0|    (2,[1],[1.0])|         0.0|     (3,[0],[1.0])|  1.0|(30,[4,11,13,16,1...|\n",
      "| 41|     admin.| married|secondary|     no|     55|    yes|  no|unknown|    1120|       2|   -1|       0| unknown|    yes|    3.0|(11,[3],[1.0])|        0.0|    (2,[0],[1.0])|          0.0|      (3,[0],[1.0])|        0.0|    (1,[0],[1.0])|        1.0|        (1,[],[])|     0.0| (1,[0],[1.0])|        1.0|    (2,[1],[1.0])|         0.0|     (3,[0],[1.0])|  1.0|(30,[3,11,13,16,1...|\n",
      "| 49|     admin.|divorced|secondary|     no|    168|    yes| yes|unknown|     513|       1|   -1|       0| unknown|    yes|    3.0|(11,[3],[1.0])|        2.0|        (2,[],[])|          0.0|      (3,[0],[1.0])|        0.0|    (1,[0],[1.0])|        1.0|        (1,[],[])|     1.0|     (1,[],[])|        1.0|    (2,[1],[1.0])|         0.0|     (3,[0],[1.0])|  1.0|(30,[3,13,16,20,2...|\n",
      "+---+-----------+--------+---------+-------+-------+-------+----+-------+--------+--------+-----+--------+--------+-------+-------+--------------+-----------+-----------------+-------------+-------------------+-----------+-----------------+-----------+-----------------+--------+--------------+-----------+-----------------+------------+------------------+-----+--------------------+\n",
      "only showing top 20 rows\n",
      "\n"
     ]
    }
   ],
   "source": [
    "df2.show()"
   ]
  },
  {
   "cell_type": "code",
   "execution_count": 34,
   "id": "9ef3d1ad-b98e-489b-9d39-c931c9602a9c",
   "metadata": {},
   "outputs": [
    {
     "name": "stdout",
     "output_type": "stream",
     "text": [
      "root\n",
      " |-- age: integer (nullable = true)\n",
      " |-- job: string (nullable = true)\n",
      " |-- marital: string (nullable = true)\n",
      " |-- education: string (nullable = true)\n",
      " |-- default: string (nullable = true)\n",
      " |-- balance: integer (nullable = true)\n",
      " |-- housing: string (nullable = true)\n",
      " |-- loan: string (nullable = true)\n",
      " |-- contact: string (nullable = true)\n",
      " |-- duration: integer (nullable = true)\n",
      " |-- campaign: integer (nullable = true)\n",
      " |-- pdays: integer (nullable = true)\n",
      " |-- previous: integer (nullable = true)\n",
      " |-- poutcome: string (nullable = true)\n",
      " |-- deposit: string (nullable = true)\n",
      " |-- label: double (nullable = false)\n",
      " |-- features: vector (nullable = true)\n",
      "\n"
     ]
    }
   ],
   "source": [
    "selected_cols = cols + ['label','features']\n",
    "df = df2.select(selected_cols)\n",
    "df.printSchema()"
   ]
  },
  {
   "cell_type": "code",
   "execution_count": 32,
   "id": "520f29f3-9602-4cb3-af98-6bff0ba3541b",
   "metadata": {
    "scrolled": true
   },
   "outputs": [
    {
     "name": "stdout",
     "output_type": "stream",
     "text": [
      "+---+-----------+--------+---------+-------+-------+-------+----+-------+--------+--------+-----+--------+--------+-------+-----+--------------------+\n",
      "|age|        job| marital|education|default|balance|housing|loan|contact|duration|campaign|pdays|previous|poutcome|deposit|label|            features|\n",
      "+---+-----------+--------+---------+-------+-------+-------+----+-------+--------+--------+-----+--------+--------+-------+-----+--------------------+\n",
      "| 59|     admin.| married|secondary|     no|   2343|    yes|  no|unknown|    1042|       1|   -1|       0| unknown|    yes|  1.0|(30,[3,11,13,16,1...|\n",
      "| 56|     admin.| married|secondary|     no|     45|     no|  no|unknown|    1467|       1|   -1|       0| unknown|    yes|  1.0|(30,[3,11,13,16,1...|\n",
      "| 41| technician| married|secondary|     no|   1270|    yes|  no|unknown|    1389|       1|   -1|       0| unknown|    yes|  1.0|(30,[2,11,13,16,1...|\n",
      "| 55|   services| married|secondary|     no|   2476|    yes|  no|unknown|     579|       1|   -1|       0| unknown|    yes|  1.0|(30,[4,11,13,16,1...|\n",
      "| 54|     admin.| married| tertiary|     no|    184|     no|  no|unknown|     673|       2|   -1|       0| unknown|    yes|  1.0|(30,[3,11,14,16,1...|\n",
      "| 42| management|  single| tertiary|     no|      0|    yes| yes|unknown|     562|       2|   -1|       0| unknown|    yes|  1.0|(30,[0,12,14,16,2...|\n",
      "| 56| management| married| tertiary|     no|    830|    yes| yes|unknown|    1201|       1|   -1|       0| unknown|    yes|  1.0|(30,[0,11,14,16,2...|\n",
      "| 60|    retired|divorced|secondary|     no|    545|    yes|  no|unknown|    1030|       1|   -1|       0| unknown|    yes|  1.0|(30,[5,13,16,18,2...|\n",
      "| 37| technician| married|secondary|     no|      1|    yes|  no|unknown|     608|       1|   -1|       0| unknown|    yes|  1.0|(30,[2,11,13,16,1...|\n",
      "| 28|   services|  single|secondary|     no|   5090|    yes|  no|unknown|    1297|       3|   -1|       0| unknown|    yes|  1.0|(30,[4,12,13,16,1...|\n",
      "| 38|     admin.|  single|secondary|     no|    100|    yes|  no|unknown|     786|       1|   -1|       0| unknown|    yes|  1.0|(30,[3,12,13,16,1...|\n",
      "| 30|blue-collar| married|secondary|     no|    309|    yes|  no|unknown|    1574|       2|   -1|       0| unknown|    yes|  1.0|(30,[1,11,13,16,1...|\n",
      "| 29| management| married| tertiary|     no|    199|    yes| yes|unknown|    1689|       4|   -1|       0| unknown|    yes|  1.0|(30,[0,11,14,16,2...|\n",
      "| 46|blue-collar|  single| tertiary|     no|    460|    yes|  no|unknown|    1102|       2|   -1|       0| unknown|    yes|  1.0|(30,[1,12,14,16,1...|\n",
      "| 31| technician|  single| tertiary|     no|    703|    yes|  no|unknown|     943|       2|   -1|       0| unknown|    yes|  1.0|(30,[2,12,14,16,1...|\n",
      "| 35| management|divorced| tertiary|     no|   3837|    yes|  no|unknown|    1084|       1|   -1|       0| unknown|    yes|  1.0|(30,[0,14,16,18,2...|\n",
      "| 32|blue-collar|  single|  primary|     no|    611|    yes|  no|unknown|     541|       3|   -1|       0| unknown|    yes|  1.0|(30,[1,12,15,16,1...|\n",
      "| 49|   services| married|secondary|     no|     -8|    yes|  no|unknown|    1119|       1|   -1|       0| unknown|    yes|  1.0|(30,[4,11,13,16,1...|\n",
      "| 41|     admin.| married|secondary|     no|     55|    yes|  no|unknown|    1120|       2|   -1|       0| unknown|    yes|  1.0|(30,[3,11,13,16,1...|\n",
      "| 49|     admin.|divorced|secondary|     no|    168|    yes| yes|unknown|     513|       1|   -1|       0| unknown|    yes|  1.0|(30,[3,13,16,20,2...|\n",
      "+---+-----------+--------+---------+-------+-------+-------+----+-------+--------+--------+-----+--------+--------+-------+-----+--------------------+\n",
      "only showing top 20 rows\n",
      "\n"
     ]
    }
   ],
   "source": [
    "df.show()"
   ]
  },
  {
   "cell_type": "markdown",
   "id": "4c853499-0551-495e-84d4-c8adce5e028e",
   "metadata": {},
   "source": [
    "#### Splitting data"
   ]
  },
  {
   "cell_type": "code",
   "execution_count": 52,
   "id": "82546e1a-5a56-42ef-9317-3dba64f2abdf",
   "metadata": {},
   "outputs": [],
   "source": [
    "train, test = df.randomSplit([0.7, 0.3], seed = 1234)"
   ]
  },
  {
   "cell_type": "code",
   "execution_count": 53,
   "id": "9b3062b3-5411-4374-b154-bb9d7f651bd4",
   "metadata": {},
   "outputs": [
    {
     "data": {
      "text/plain": [
       "('7828', '3334')"
      ]
     },
     "execution_count": 53,
     "metadata": {},
     "output_type": "execute_result"
    }
   ],
   "source": [
    "str(train.count()), str(test.count())"
   ]
  },
  {
   "cell_type": "markdown",
   "id": "baf9423a-ae37-4471-83eb-5f08f43357d3",
   "metadata": {},
   "source": [
    "#### Logistic Regression"
   ]
  },
  {
   "cell_type": "code",
   "execution_count": 54,
   "id": "1f3582d7-ba19-4f1e-9450-c87dd71848f7",
   "metadata": {},
   "outputs": [],
   "source": [
    "log_reg = LogisticRegression(featuresCol = 'features', labelCol = 'label', maxIter=10)\n",
    "log_reg_model = log_reg.fit(train)"
   ]
  },
  {
   "cell_type": "code",
   "execution_count": 55,
   "id": "49268f90-6556-4bd8-817f-e58c4a27d232",
   "metadata": {},
   "outputs": [],
   "source": [
    "log_reg_preds = log_reg_model.transform(test)"
   ]
  },
  {
   "cell_type": "code",
   "execution_count": 58,
   "id": "96946325-762f-4aa7-94bf-ff59c14b2aea",
   "metadata": {},
   "outputs": [
    {
     "name": "stdout",
     "output_type": "stream",
     "text": [
      "+-----+---+-------+---------+--------------------+----------+--------------------+\n",
      "|label|age|    job|education|       rawPrediction|prediction|         probability|\n",
      "+-----+---+-------+---------+--------------------+----------+--------------------+\n",
      "|  1.0| 18|student|  primary|[-2.8990524205661...|       1.0|[0.05220042519505...|\n",
      "|  1.0| 18|student|  primary|[-0.5848004573045...|       1.0|[0.35782875812645...|\n",
      "|  1.0| 18|student|  unknown|[-2.4463479494043...|       1.0|[0.07970602710646...|\n",
      "|  0.0| 20| admin.|secondary|[0.96251092861643...|       0.0|[0.72362425310875...|\n",
      "|  1.0| 20|student|  unknown|[-1.3955739986110...|       1.0|[0.19851939048208...|\n",
      "|  0.0| 20|student|  primary|[-0.0982141935781...|       1.0|[0.47546616960320...|\n",
      "|  0.0| 20|student|  primary|[-1.2082113962821...|       1.0|[0.23001767676401...|\n",
      "|  1.0| 20|student|  primary|[-0.2244954229397...|       1.0|[0.44411067409966...|\n",
      "|  1.0| 20|student|secondary|[1.39313503639226...|       0.0|[0.80109226224084...|\n",
      "|  1.0| 20|student|secondary|[-0.7874430754068...|       1.0|[0.31271795421531...|\n",
      "+-----+---+-------+---------+--------------------+----------+--------------------+\n",
      "only showing top 10 rows\n",
      "\n"
     ]
    }
   ],
   "source": [
    "log_reg_preds.select('label','age','job','education', 'rawPrediction', 'prediction', 'probability').show(10)"
   ]
  },
  {
   "cell_type": "code",
   "execution_count": 72,
   "id": "df70ab2c-0fc8-46fb-a68b-9c7f0d44c6c9",
   "metadata": {},
   "outputs": [
    {
     "name": "stdout",
     "output_type": "stream",
     "text": [
      "Area Under ROC Curve: 0.8820935804049177\n"
     ]
    }
   ],
   "source": [
    "log_reg_eval = BinaryClassificationEvaluator()\n",
    "print(f\"Area Under ROC Curve: {log_reg_eval.evaluate(log_reg_preds)}\")"
   ]
  },
  {
   "cell_type": "markdown",
   "id": "8a3c22da-3800-42e1-ae11-8b99def2d711",
   "metadata": {},
   "source": [
    "#### Decision Tree Classifier"
   ]
  },
  {
   "cell_type": "code",
   "execution_count": 61,
   "id": "6c4b9090-d6ec-4f0f-be6c-b8fc6f3eda41",
   "metadata": {},
   "outputs": [],
   "source": [
    "dec_tree = DecisionTreeClassifier(featuresCol = 'features', labelCol = 'label', maxDepth = 3)\n",
    "dec_tree_model = dec_tree.fit(train)"
   ]
  },
  {
   "cell_type": "code",
   "execution_count": 62,
   "id": "24c688e3-97bc-40ae-98fa-b1c1222aa94a",
   "metadata": {},
   "outputs": [],
   "source": [
    "dec_tree_preds = dec_tree_model.transform(test)"
   ]
  },
  {
   "cell_type": "code",
   "execution_count": 63,
   "id": "d92ec0e9-b693-4a0e-b702-cedfac4e7e48",
   "metadata": {},
   "outputs": [
    {
     "name": "stdout",
     "output_type": "stream",
     "text": [
      "+-----+---+-------+---------+--------------+----------+--------------------+\n",
      "|label|age|    job|education| rawPrediction|prediction|         probability|\n",
      "+-----+---+-------+---------+--------------+----------+--------------------+\n",
      "|  1.0| 18|student|  primary|[901.0,1320.0]|       1.0|[0.40567312021611...|\n",
      "|  1.0| 18|student|  primary|[901.0,1320.0]|       1.0|[0.40567312021611...|\n",
      "|  1.0| 18|student|  unknown|  [27.0,109.0]|       1.0|[0.19852941176470...|\n",
      "|  0.0| 20| admin.|secondary|[2199.0,338.0]|       0.0|[0.86677177769018...|\n",
      "|  1.0| 20|student|  unknown|[901.0,1320.0]|       1.0|[0.40567312021611...|\n",
      "|  0.0| 20|student|  primary|[2199.0,338.0]|       0.0|[0.86677177769018...|\n",
      "|  0.0| 20|student|  primary|[901.0,1320.0]|       1.0|[0.40567312021611...|\n",
      "|  1.0| 20|student|  primary|[901.0,1320.0]|       1.0|[0.40567312021611...|\n",
      "|  1.0| 20|student|secondary|[2199.0,338.0]|       0.0|[0.86677177769018...|\n",
      "|  1.0| 20|student|secondary|[901.0,1320.0]|       1.0|[0.40567312021611...|\n",
      "+-----+---+-------+---------+--------------+----------+--------------------+\n",
      "only showing top 10 rows\n",
      "\n"
     ]
    }
   ],
   "source": [
    "dec_tree_preds.select('label','age','job','education', 'rawPrediction', 'prediction', 'probability').show(10)"
   ]
  },
  {
   "cell_type": "code",
   "execution_count": 73,
   "id": "c37238e4-642d-4f23-8c1c-e1c254eb1106",
   "metadata": {},
   "outputs": [
    {
     "name": "stdout",
     "output_type": "stream",
     "text": [
      "Area Under ROC Curve: 0.783849384099557\n"
     ]
    }
   ],
   "source": [
    "dec_tree_eval = BinaryClassificationEvaluator()\n",
    "print(f\"Area Under ROC Curve: {dec_tree_eval.evaluate(dec_tree_preds)}\")"
   ]
  },
  {
   "cell_type": "markdown",
   "id": "9b96afa9-4b0f-4b94-9428-7eb35eacfd55",
   "metadata": {},
   "source": [
    "#### Random forest Classifier"
   ]
  },
  {
   "cell_type": "code",
   "execution_count": 65,
   "id": "2984aac9-2cf7-4749-a659-d1551a5e860b",
   "metadata": {},
   "outputs": [],
   "source": [
    "random_f = RandomForestClassifier(featuresCol = 'features', labelCol = 'label')\n",
    "random_f_model = random_f.fit(train)"
   ]
  },
  {
   "cell_type": "code",
   "execution_count": 66,
   "id": "bce0fa65-6dd6-4244-b82f-0a8dae5593ab",
   "metadata": {},
   "outputs": [],
   "source": [
    "random_f_preds = random_f_model.transform(test)"
   ]
  },
  {
   "cell_type": "code",
   "execution_count": 67,
   "id": "367bba13-7f6f-4099-955b-c2ffa8834875",
   "metadata": {},
   "outputs": [
    {
     "name": "stdout",
     "output_type": "stream",
     "text": [
      "+-----+---+-------+---------+--------------------+----------+--------------------+\n",
      "|label|age|    job|education|       rawPrediction|prediction|         probability|\n",
      "+-----+---+-------+---------+--------------------+----------+--------------------+\n",
      "|  1.0| 18|student|  primary|[2.66270320215190...|       1.0|[0.13313516010759...|\n",
      "|  1.0| 18|student|  primary|[9.11031947825185...|       1.0|[0.45551597391259...|\n",
      "|  1.0| 18|student|  unknown|[5.88523734113993...|       1.0|[0.29426186705699...|\n",
      "|  0.0| 20| admin.|secondary|[13.2124168773513...|       0.0|[0.66062084386756...|\n",
      "|  1.0| 20|student|  unknown|[5.24090947294857...|       1.0|[0.26204547364742...|\n",
      "|  0.0| 20|student|  primary|[9.06494886348601...|       1.0|[0.45324744317430...|\n",
      "|  0.0| 20|student|  primary|[6.51621764962304...|       1.0|[0.32581088248115...|\n",
      "|  1.0| 20|student|  primary|[9.62645769418626...|       1.0|[0.48132288470931...|\n",
      "|  1.0| 20|student|secondary|[16.8638777735919...|       0.0|[0.84319388867959...|\n",
      "|  1.0| 20|student|secondary|[6.44443111158760...|       1.0|[0.32222155557938...|\n",
      "+-----+---+-------+---------+--------------------+----------+--------------------+\n",
      "only showing top 10 rows\n",
      "\n"
     ]
    }
   ],
   "source": [
    "random_f_preds.select('label','age','job','education', 'rawPrediction', 'prediction', 'probability').show(10)"
   ]
  },
  {
   "cell_type": "code",
   "execution_count": 74,
   "id": "56c95524-e0d1-4121-a042-68a17d726d78",
   "metadata": {},
   "outputs": [
    {
     "name": "stdout",
     "output_type": "stream",
     "text": [
      "Area Under ROC Curve: 0.8726102726398993\n"
     ]
    }
   ],
   "source": [
    "random_f_eval = BinaryClassificationEvaluator()\n",
    "print(f\"Area Under ROC Curve: {random_f_eval.evaluate(random_f_preds)}\")"
   ]
  },
  {
   "cell_type": "code",
   "execution_count": null,
   "id": "e30df4e5-7b21-41ff-9433-7c27551742cb",
   "metadata": {},
   "outputs": [],
   "source": []
  }
 ],
 "metadata": {
  "kernelspec": {
   "display_name": "Python 3 (ipykernel)",
   "language": "python",
   "name": "python3"
  },
  "language_info": {
   "codemirror_mode": {
    "name": "ipython",
    "version": 3
   },
   "file_extension": ".py",
   "mimetype": "text/x-python",
   "name": "python",
   "nbconvert_exporter": "python",
   "pygments_lexer": "ipython3",
   "version": "3.11.6"
  }
 },
 "nbformat": 4,
 "nbformat_minor": 5
}
