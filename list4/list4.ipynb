{
 "cells": [
  {
   "cell_type": "markdown",
   "id": "ee232b6b-418f-4bae-97d9-430981745acf",
   "metadata": {},
   "source": [
    "# Package Import & Spark Setup"
   ]
  },
  {
   "cell_type": "code",
   "execution_count": 1,
   "id": "559e174a-5796-451b-adab-7c1d2482c49c",
   "metadata": {},
   "outputs": [],
   "source": [
    "import requests\n",
    "from bs4 import BeautifulSoup\n",
    "import pandas as pd\n",
    "import re\n",
    "from tqdm import tqdm\n",
    "import matplotlib.pyplot as plt\n",
    "from pyspark import SparkContext\n",
    "from pyspark.sql import SparkSession\n",
    "from pyspark.ml.feature import VectorAssembler\n",
    "from pyspark.ml.regression import LinearRegression\n",
    "from pyspark.sql.functions import round, col, udf, max\n",
    "from pyspark.sql import Row"
   ]
  },
  {
   "cell_type": "code",
   "execution_count": 2,
   "id": "c91652a7-bf41-48b8-949e-b28cf8885644",
   "metadata": {},
   "outputs": [],
   "source": [
    "sc = SparkContext.getOrCreate()\n",
    "spark = SparkSession(sc)"
   ]
  },
  {
   "cell_type": "markdown",
   "id": "09bdb656-69f9-411c-8922-a7760669c924",
   "metadata": {},
   "source": [
    "# Data scraping"
   ]
  },
  {
   "cell_type": "markdown",
   "id": "67861cf5-a74a-4e28-83a1-e1e472ec008f",
   "metadata": {},
   "source": [
    "### Scraping functions"
   ]
  },
  {
   "cell_type": "code",
   "execution_count": 5,
   "id": "9a8c592c-ce74-45f9-b58a-065729130ae9",
   "metadata": {},
   "outputs": [],
   "source": [
    "class FetchError(Exception): ...\n",
    "    \n",
    "    \n",
    "def fetch_page(url: str) -> requests.models.Response:\n",
    "    ATTEMPTS = 5\n",
    "    for _ in range(ATTEMPTS):\n",
    "        response = requests.get(url)\n",
    "        if response.status_code == 200:\n",
    "            return response\n",
    "    raise FetchError(f\"Failed to retrieve the webpage '{url}'.\")\n",
    "\n",
    "\n",
    "def scrape_player_table(response: requests.models.Response, year: int) -> pd.DataFrame:\n",
    "    TABLE_ID = 'per_game_stats'\n",
    "    soup = BeautifulSoup(response.text, 'html.parser')\n",
    "    table = soup.find('table', id=TABLE_ID)\n",
    "    if not table:\n",
    "        raise FetchError(f\"No table found with class '{TABLE_ID}'.\")\n",
    "      \n",
    "    header_row = table.find('tr')\n",
    "    columns_fetched = [cell.get_text(strip=True) for cell in header_row.find_all('th')]\n",
    "    columns = [\"PLAYER_ID\", \"season\"] + columns_fetched[1:]\n",
    "\n",
    "    table_data = []\n",
    "    for row in table.find_all('tr'):\n",
    "        row_data = [cell.get_text(strip=True) for cell in row.find_all('td')]\n",
    "        season = f\"{year - 1}/{year}\"\n",
    "        if row_data:\n",
    "            player_id = row.find('td').get(\"data-append-csv\")\n",
    "            table_data.append([player_id, season] + row_data)\n",
    "  \n",
    "    df = pd.DataFrame.from_records(data=table_data, columns=columns)\n",
    "    return df\n",
    "\n",
    "\n",
    "def prepare_player_data(season_start: int, season_end: int) -> pd.DataFrame:\n",
    "    url_template = \"https://www.basketball-reference.com/leagues/NBA_{}_per_game.html\" \n",
    "    season_dfs = []\n",
    "    print(\"Data fetching started:\")\n",
    "    try:\n",
    "        for year in tqdm(range(season_start, season_end + 1)):\n",
    "            url = url_template.format(year)\n",
    "            response = fetch_page(url)\n",
    "            df = scrape_player_table(response, year)\n",
    "            season_dfs.append(df)\n",
    "    except FetchError as e:\n",
    "        print(f\"Fetching failed: {e}\")\n",
    "    else:\n",
    "        full_df = pd.concat(season_dfs, axis=0)\n",
    "        full_df.reset_index(drop=True, inplace=True)\n",
    "        print(\"Success!\")\n",
    "        return full_df\n",
    "\n",
    "def scrape_game_table(response: requests.models.Response) -> pd.DataFrame:\n",
    "    STATS_ID = 'all_stats'\n",
    "    soup = BeautifulSoup(response.text, 'html.parser')\n",
    "    table = soup.find('div', id=STATS_ID).find(\"table\")\n",
    "    if not table:\n",
    "        raise FetchError(f\"No table found with class '{TABLE_ID}'.\")\n",
    "      \n",
    "    header_row = table.find(lambda tag: tag.name == 'tr' and 'over_header' not in tag.get('class', []))\n",
    "    columns_fetched = [cell.get_text(strip=True) for cell in header_row.find_all('th')]\n",
    "    columns = columns_fetched[1:]\n",
    "\n",
    "    table_data = []\n",
    "    for row in table.find_all('tr'):\n",
    "        row_data = [cell.get_text(strip=True) for cell in row.find_all('td')]\n",
    "        if row_data:\n",
    "            table_data.append(row_data)\n",
    "  \n",
    "    df = pd.DataFrame.from_records(data=table_data, columns=columns)\n",
    "    return df\n",
    "\n",
    "def prepare_game_data() -> pd.DataFrame:\n",
    "    url = \"https://www.basketball-reference.com/leagues/NBA_stats_totals.html\" \n",
    "    print(\"Data fetching started:\")\n",
    "    try:\n",
    "        for year in tqdm(range(1)):\n",
    "            response = fetch_page(url)\n",
    "            df = scrape_game_table(response)\n",
    "    except FetchError as e:\n",
    "        print(f\"Fetching failed: {e}\")\n",
    "    else:\n",
    "        df = df[df[\"3P\"] != \"\"]\n",
    "        def season_formater(s: str) -> str:\n",
    "            year_start = int(re.findall(r'(\\d+)-', s)[0])\n",
    "            return f\"{year_start}/{year_start + 1}\"\n",
    "        \n",
    "        df[\"season\"] = df[\"Season\"].apply(season_formater)\n",
    "        df.drop(columns=[\"Season\"], inplace=True)\n",
    "        print(\"Success!\")\n",
    "        return df"
   ]
  },
  {
   "cell_type": "markdown",
   "id": "74ed3cb8-4680-4cca-b91f-4465c932a394",
   "metadata": {},
   "source": [
    "### Call"
   ]
  },
  {
   "cell_type": "code",
   "execution_count": 6,
   "id": "80ec6783-4450-4f8c-b0de-e9d3c7b16f9d",
   "metadata": {},
   "outputs": [
    {
     "name": "stdout",
     "output_type": "stream",
     "text": [
      "Data fetching started:\n"
     ]
    },
    {
     "name": "stderr",
     "output_type": "stream",
     "text": [
      "100%|██████████| 45/45 [02:03<00:00,  2.74s/it]"
     ]
    },
    {
     "name": "stdout",
     "output_type": "stream",
     "text": [
      "Success!\n"
     ]
    },
    {
     "name": "stderr",
     "output_type": "stream",
     "text": [
      "\n"
     ]
    }
   ],
   "source": [
    "raw_df_player = prepare_player_data(1980, 2024)"
   ]
  },
  {
   "cell_type": "code",
   "execution_count": 7,
   "id": "1c611f32-9d99-419c-9875-2a7ae4b8e80f",
   "metadata": {},
   "outputs": [
    {
     "name": "stdout",
     "output_type": "stream",
     "text": [
      "Data fetching started:\n"
     ]
    },
    {
     "name": "stderr",
     "output_type": "stream",
     "text": [
      "100%|██████████| 1/1 [00:01<00:00,  1.54s/it]"
     ]
    },
    {
     "name": "stdout",
     "output_type": "stream",
     "text": [
      "Success!\n"
     ]
    },
    {
     "name": "stderr",
     "output_type": "stream",
     "text": [
      "\n"
     ]
    }
   ],
   "source": [
    "raw_df_game = prepare_game_data()"
   ]
  },
  {
   "cell_type": "code",
   "execution_count": 8,
   "id": "fa3cb20f-f276-4d0b-a3d1-b6be25eec3f0",
   "metadata": {},
   "outputs": [],
   "source": [
    "df_player = spark.createDataFrame(raw_df_player)\n",
    "df_game = spark.createDataFrame(raw_df_game)"
   ]
  },
  {
   "cell_type": "markdown",
   "id": "a4324558-c2e6-431e-8e4a-69469d8204bf",
   "metadata": {},
   "source": [
    "# 10 best scorers in ascending order "
   ]
  },
  {
   "cell_type": "code",
   "execution_count": 9,
   "id": "109bc5a9-294f-495a-9da2-31dd369cf652",
   "metadata": {},
   "outputs": [],
   "source": [
    "df1 = df_player.select(\"*\")\n",
    "df1 = df1.withColumn(\"record_PTS\", col(\"PTS\") * col(\"G\"))\n",
    "df1 = df1.groupBy([\"Player_ID\"]).agg({'record_PTS': 'sum', \"Player\": \"last\"})\n",
    "df1 = df1.select([col(\"last(Player)\").alias('NAME'), round(col(\"sum(record_PTS)\"), 1).alias(\"TOTAL_PTS\")])\n",
    "df1 = df1.orderBy(col(\"TOTAL_PTS\").desc()).limit(10)\n",
    "df1 = df1.orderBy(col(\"TOTAL_PTS\").asc())"
   ]
  },
  {
   "cell_type": "markdown",
   "id": "03e360f6-37f7-48a1-b078-de76b436fc3c",
   "metadata": {},
   "source": [
    "**Total number of points in the data set is approximated -- that's why there are \"partial points\" below**"
   ]
  },
  {
   "cell_type": "code",
   "execution_count": 10,
   "id": "1fa9a7a1-ad97-4bd0-a448-5c256f0fd214",
   "metadata": {},
   "outputs": [
    {
     "name": "stdout",
     "output_type": "stream",
     "text": [
      "+------------------+---------+\n",
      "|              NAME|TOTAL_PTS|\n",
      "+------------------+---------+\n",
      "|Dominique Wilkins*|  28585.3|\n",
      "|     Vince Carter*|  28627.2|\n",
      "| Shaquille O'Neal*|  29432.7|\n",
      "|   Carmelo Anthony|  30255.3|\n",
      "|      Kevin Durant|  30289.2|\n",
      "|    Dirk Nowitzki*|  31561.1|\n",
      "|   Michael Jordan*|  32299.4|\n",
      "|      Kobe Bryant*|  33633.3|\n",
      "|      Karl Malone*|  36936.1|\n",
      "|      LeBron James|  40472.9|\n",
      "+------------------+---------+\n",
      "\n"
     ]
    }
   ],
   "source": [
    "df1.show()"
   ]
  },
  {
   "cell_type": "markdown",
   "id": "d5393319-1ce8-4d37-a0b6-d9cae3f6aa8b",
   "metadata": {},
   "source": [
    "# 3 points attempts in each season"
   ]
  },
  {
   "cell_type": "markdown",
   "id": "b00427a8-ade0-4f0b-81b6-4cbce760eeb0",
   "metadata": {},
   "source": [
    "### Transformations"
   ]
  },
  {
   "cell_type": "code",
   "execution_count": 11,
   "id": "6f90ec3e-91ae-4e6a-84f7-862082e55bf8",
   "metadata": {},
   "outputs": [],
   "source": [
    "df2 = df_game.select(\"*\")\n",
    "df2 = df2.withColumn(\"avg_3PA\", round(col(\"3PA\") / col(\"G\"), 4)) # divide by 2????\n",
    "df2 = df2.select([col(\"season\"), col(\"avg_3PA\")])\n",
    "\n",
    "extract_numbers_udf = udf(lambda s: int(re.findall(r'/(\\d+)', s)[0]), \"int\")\n",
    "df2 = df2.withColumn(\"int_season\", extract_numbers_udf(\"season\"))\n",
    "df2_vis = df2.orderBy(\"int_season\").drop(\"int_season\")"
   ]
  },
  {
   "cell_type": "markdown",
   "id": "4869c216-e6c6-4063-be8d-e81fb74dbaa6",
   "metadata": {},
   "source": [
    "### Tabular"
   ]
  },
  {
   "cell_type": "code",
   "execution_count": 12,
   "id": "51100ae0-9bc2-4d9b-b863-aa3c2b4dbf8d",
   "metadata": {},
   "outputs": [
    {
     "name": "stdout",
     "output_type": "stream",
     "text": [
      "+---------+-------+\n",
      "|   season|avg_3PA|\n",
      "+---------+-------+\n",
      "|1979/1980| 5.5466|\n",
      "|1980/1981| 4.0456|\n",
      "|1981/1982| 4.5684|\n",
      "|1982/1983| 4.5048|\n",
      "|1983/1984|  4.755|\n",
      "|1984/1985| 6.2747|\n",
      "|1985/1986| 6.6734|\n",
      "|1986/1987| 9.4517|\n",
      "|1987/1988| 9.9905|\n",
      "|1988/1989|13.1034|\n",
      "|1989/1990| 13.196|\n",
      "|1990/1991|14.2836|\n",
      "|1991/1992|15.2647|\n",
      "|1992/1993|17.9079|\n",
      "|1993/1994|19.7895|\n",
      "|1994/1995|30.6134|\n",
      "|1995/1996| 32.095|\n",
      "|1996/1997|33.5938|\n",
      "|1997/1998|25.4256|\n",
      "|1998/1999|26.3172|\n",
      "|1999/2000|27.4298|\n",
      "|2000/2001|27.4155|\n",
      "|2001/2002|29.4987|\n",
      "|2002/2003|29.3625|\n",
      "|2003/2004|29.8503|\n",
      "|2004/2005|31.5024|\n",
      "|2005/2006|31.9618|\n",
      "|2006/2007|33.8797|\n",
      "|2007/2008|36.2146|\n",
      "|2008/2009|36.2463|\n",
      "|2009/2010| 36.278|\n",
      "|2010/2011|36.0268|\n",
      "|2011/2012|36.7626|\n",
      "|2012/2013|39.9243|\n",
      "|2013/2014|43.0683|\n",
      "|2014/2015|44.8268|\n",
      "|2015/2016|48.1634|\n",
      "|2016/2017|54.0016|\n",
      "|2017/2018|   58.0|\n",
      "|2018/2019|64.0179|\n",
      "|2019/2020|68.2266|\n",
      "|2020/2021|69.2796|\n",
      "|2021/2022|70.3537|\n",
      "|2022/2023|68.4268|\n",
      "|2023/2024|70.2073|\n",
      "+---------+-------+\n",
      "\n"
     ]
    }
   ],
   "source": [
    "df2_vis.show(df2_vis.count())"
   ]
  },
  {
   "cell_type": "markdown",
   "id": "be7cf0f3-a577-40e7-a616-5757bc61f2f8",
   "metadata": {},
   "source": [
    "### Visualization"
   ]
  },
  {
   "cell_type": "code",
   "execution_count": 13,
   "id": "8dc384a9-5b59-4539-8a42-387d40c41336",
   "metadata": {},
   "outputs": [
    {
     "data": {
      "image/png": "[encoded data removed]",
      "text/plain": [
       "<Figure size 640x480 with 1 Axes>"
      ]
     },
     "metadata": {},
     "output_type": "display_data"
    }
   ],
   "source": [
    "fig, ax = plt.subplots()\n",
    "\n",
    "pd_df_plot = df2_vis\n",
    "pd_df_plot.toPandas().plot.line(x=\"season\", y=\"avg_3PA\", ax=ax)\n",
    "ax.get_legend().remove()\n",
    "ax.set_title(\"Average 3 Point Attempts per Season\")\n",
    "\n",
    "plt.show()"
   ]
  },
  {
   "cell_type": "markdown",
   "id": "e1f9981b-416f-4949-902f-a27849142ef3",
   "metadata": {},
   "source": [
    "# 3 point attempts prediction"
   ]
  },
  {
   "cell_type": "markdown",
   "id": "d0435a46-d4f1-4716-a482-5acbb361a403",
   "metadata": {},
   "source": [
    "### Preparing an extended table"
   ]
  },
  {
   "cell_type": "code",
   "execution_count": 14,
   "id": "82d38233-2d7e-440d-b167-86447966304a",
   "metadata": {},
   "outputs": [],
   "source": [
    "PREDICTION_PERIOD = 5"
   ]
  },
  {
   "cell_type": "code",
   "execution_count": 15,
   "id": "21fcbedb-f849-4584-b274-6e34b56874ce",
   "metadata": {},
   "outputs": [],
   "source": [
    "max_year = df2.select(max(df2.int_season).alias(\"max\")).take(1)[0].max\n",
    "year_range = range(max_year + 1, max_year + 1 + PREDICTION_PERIOD)\n",
    "new_rows = [Row(season=f\"{year - 1}/{year}\", avg_3PA=None, int_season=year) for year in year_range]\n",
    "new_df = spark.createDataFrame(new_rows, schema=df2.schema)\n",
    "df3 = df2.union(new_df)"
   ]
  },
  {
   "cell_type": "code",
   "execution_count": 16,
   "id": "5d35f8bd-5ad7-49d9-87f2-2173720859c5",
   "metadata": {},
   "outputs": [],
   "source": [
    "assembler = VectorAssembler().setInputCols(['int_season']).setOutputCol('int_season_')\n",
    "df3 = assembler.transform(df3)"
   ]
  },
  {
   "cell_type": "code",
   "execution_count": 17,
   "id": "d53a7def-98a6-4ab1-bb75-caee21ab9fae",
   "metadata": {},
   "outputs": [],
   "source": [
    "df3_train = df3.filter(col(\"avg_3PA\").isNotNull())"
   ]
  },
  {
   "cell_type": "markdown",
   "id": "cec86f8e-4cde-4e0d-8854-017523e4fdef",
   "metadata": {},
   "source": [
    "### Fitting the model"
   ]
  },
  {
   "cell_type": "code",
   "execution_count": 18,
   "id": "a44c7893-6885-41b8-8980-6b59528db3f8",
   "metadata": {},
   "outputs": [],
   "source": [
    "lr = LinearRegression(featuresCol=\"int_season_\", labelCol=\"avg_3PA\")\n",
    "model = lr.fit(df3_train)"
   ]
  },
  {
   "cell_type": "code",
   "execution_count": 19,
   "id": "0ad95c3c-0673-4005-97d4-0a907ec92644",
   "metadata": {},
   "outputs": [],
   "source": [
    "df3_res = model.transform(df3).withColumn(\"PRED_avg_3PA\", round(col(\"prediction\"), 4))\n",
    "df3_res = df3_res.drop(\"prediction\").drop(\"int_season_\").orderBy(\"int_season\")"
   ]
  },
  {
   "cell_type": "code",
   "execution_count": 20,
   "id": "0406cfa5-c8c1-490a-83fb-5c804020a395",
   "metadata": {},
   "outputs": [],
   "source": [
    "df3_res_future = df3_res.filter(col(\"avg_3PA\").isNull()).select([col(\"season\"), col(\"PRED_avg_3PA\")])"
   ]
  },
  {
   "cell_type": "markdown",
   "id": "a50a844e-6a29-4583-a426-f19988e5324f",
   "metadata": {},
   "source": [
    "### Tabular"
   ]
  },
  {
   "cell_type": "code",
   "execution_count": 21,
   "id": "450c3df0-cb8c-467d-9dfa-4d8a3f11e4a6",
   "metadata": {},
   "outputs": [
    {
     "name": "stdout",
     "output_type": "stream",
     "text": [
      "+---------+------------+\n",
      "|   season|PRED_avg_3PA|\n",
      "+---------+------------+\n",
      "|2024/2025|     65.2939|\n",
      "|2025/2026|     66.7624|\n",
      "|2026/2027|     68.2309|\n",
      "|2027/2028|     69.6994|\n",
      "|2028/2029|     71.1679|\n",
      "+---------+------------+\n",
      "\n"
     ]
    }
   ],
   "source": [
    "df3_res_future.show(PREDICTION_PERIOD)"
   ]
  },
  {
   "cell_type": "markdown",
   "id": "5a82ce83-dfe5-4b80-ac33-fc811db92266",
   "metadata": {},
   "source": [
    "### Visualization"
   ]
  },
  {
   "cell_type": "code",
   "execution_count": 22,
   "id": "16be4683-b9c6-4b8f-8590-cd9f272ae9c1",
   "metadata": {},
   "outputs": [
    {
     "data": {
      "image/png": "[encoded data removed]",
      "text/plain": [
       "<Figure size 640x480 with 1 Axes>"
      ]
     },
     "metadata": {},
     "output_type": "display_data"
    }
   ],
   "source": [
    "fig, ax = plt.subplots()\n",
    "\n",
    "pd_df_plot = df3_res.toPandas()\n",
    "pd_df_plot.plot.line(x=\"season\", y=[\"avg_3PA\", \"PRED_avg_3PA\"], ax=ax)\n",
    "ax.set_title(\"Average 3 Point Attempts per Season - PREDICTIONS\")\n",
    "\n",
    "pred_area_filter = pd_df_plot[pd_df_plot.avg_3PA.isna()]\n",
    "pred_area_ixs = [pred_area_filter.first_valid_index() - 0.5, pred_area_filter.last_valid_index()]\n",
    "ax.axvspan(*pred_area_ixs, alpha=0.3, color='gray', zorder=-1)\n",
    "\n",
    "\n",
    "plt.show()"
   ]
  },
  {
   "cell_type": "code",
   "execution_count": null,
   "id": "9745f2e8-4746-4b32-8c4e-c42225796403",
   "metadata": {},
   "outputs": [],
   "source": []
  },
  {
   "cell_type": "code",
   "execution_count": null,
   "id": "a3be8755-09f8-46c9-a840-e24057d92934",
   "metadata": {},
   "outputs": [],
   "source": []
  }
 ],
 "metadata": {
  "kernelspec": {
   "display_name": "Python 3 (ipykernel)",
   "language": "python",
   "name": "python3"
  },
  "language_info": {
   "codemirror_mode": {
    "name": "ipython",
    "version": 3
   },
   "file_extension": ".py",
   "mimetype": "text/x-python",
   "name": "python",
   "nbconvert_exporter": "python",
   "pygments_lexer": "ipython3",
   "version": "3.11.6"
  }
 },
 "nbformat": 4,
 "nbformat_minor": 5
}
