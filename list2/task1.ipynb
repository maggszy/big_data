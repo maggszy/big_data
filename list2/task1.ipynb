{
 "cells": [
  {
   "cell_type": "code",
   "execution_count": 1,
   "metadata": {},
   "outputs": [],
   "source": [
    "import pandas as pd\n",
    "import time\n",
    "import csv"
   ]
  },
  {
   "cell_type": "code",
   "execution_count": 2,
   "metadata": {},
   "outputs": [
    {
     "name": "stdout",
     "output_type": "stream",
     "text": [
      "CPU times: total: 4min 40s\n",
      "Wall time: 4min 42s\n"
     ]
    }
   ],
   "source": [
    "%%time\n",
    "data = pd.read_csv(\"C:/Users/Huawei/Desktop/STUDIA 8sem/big_data/big_data/list2/311_Service_Requests_from_2010_to_Present_20240331.csv\", usecols=['Complaint Type', 'Borough', 'Agency'])\n"
   ]
  },
  {
   "cell_type": "code",
   "execution_count": 5,
   "metadata": {},
   "outputs": [
    {
     "name": "stdout",
     "output_type": "stream",
     "text": [
      "CPU times: total: 7.19 s\n",
      "Wall time: 7.27 s\n"
     ]
    },
    {
     "data": {
      "text/plain": [
       "Complaint Type\n",
       "Noise - Residential               3321134\n",
       "Illegal Parking                   2432161\n",
       "HEAT/HOT WATER                    2200209\n",
       "Blocked Driveway                  1554908\n",
       "Street Condition                  1253180\n",
       "                                   ...   \n",
       "Misc. Comments');declare @q...          1\n",
       "Misc. Comments')waitfor del...          1\n",
       "Misc. Comments'+(function()...          1\n",
       "Misc. Comments'+(select loa...          1\n",
       "{!xmlparser v='&lt;!DOCTYPE...          1\n",
       "Name: Complaint Type, Length: 494, dtype: int64"
      ]
     },
     "execution_count": 5,
     "metadata": {},
     "output_type": "execute_result"
    }
   ],
   "source": [
    "# first dot -> the most common complaints\n",
    "%time data.groupby(['Complaint Type'])['Complaint Type'].count().sort_values(ascending=False)\n"
   ]
  },
  {
   "cell_type": "code",
   "execution_count": 6,
   "metadata": {},
   "outputs": [
    {
     "name": "stdout",
     "output_type": "stream",
     "text": [
      "CPU times: total: 15.2 s\n",
      "Wall time: 15.4 s\n"
     ]
    },
    {
     "data": {
      "text/plain": [
       "Borough      Complaint Type                \n",
       "BRONX        Noise - Residential               971018\n",
       "BROOKLYN     Noise - Residential               915720\n",
       "             Illegal Parking                   881285\n",
       "BRONX        HEAT/HOT WATER                    747972\n",
       "QUEENS       Illegal Parking                   742041\n",
       "                                                ...  \n",
       "Unspecified  Misc. Comments&amp;ping -n ...         1\n",
       "             Misc. Comments&gt;  BCC:bl0...         1\n",
       "             Misc. Comments&quot;                   1\n",
       "             Misc. Comments&quot;|echo 2...         1\n",
       "             {!xmlparser v='&lt;!DOCTYPE...         1\n",
       "Name: Complaint Type, Length: 2004, dtype: int64"
      ]
     },
     "execution_count": 6,
     "metadata": {},
     "output_type": "execute_result"
    }
   ],
   "source": [
    "#second dot\n",
    "%time data.groupby(['Borough','Complaint Type'])['Complaint Type'].count().sort_values(ascending=False)"
   ]
  },
  {
   "cell_type": "code",
   "execution_count": 7,
   "metadata": {},
   "outputs": [
    {
     "name": "stdout",
     "output_type": "stream",
     "text": [
      "CPU times: total: 12.1 s\n",
      "Wall time: 12.2 s\n"
     ]
    },
    {
     "data": {
      "text/plain": [
       "Agency  Complaint Type                \n",
       "NYPD    Noise - Residential               3321132\n",
       "        Illegal Parking                   2432159\n",
       "HPD     HEAT/HOT WATER                    2200209\n",
       "NYPD    Blocked Driveway                  1554908\n",
       "DOT     Street Condition                  1253061\n",
       "                                           ...   \n",
       "DOHMH   LEAD                                    1\n",
       "        Injured Wildlife                        1\n",
       "        Illegal Animal - Sold/Kept              1\n",
       "DVS     Misc. Comments' and '7835'=...          1\n",
       "        Misc. Comments'|echo y9v6fc...          1\n",
       "Name: Complaint Type, Length: 577, dtype: int64"
      ]
     },
     "execution_count": 7,
     "metadata": {},
     "output_type": "execute_result"
    }
   ],
   "source": [
    "#third dot\n",
    "%time data.groupby(['Agency','Complaint Type'])['Complaint Type'].count().sort_values(ascending=False)"
   ]
  }
 ],
 "metadata": {
  "kernelspec": {
   "display_name": "Python 3",
   "language": "python",
   "name": "python3"
  },
  "language_info": {
   "codemirror_mode": {
    "name": "ipython",
    "version": 3
   },
   "file_extension": ".py",
   "mimetype": "text/x-python",
   "name": "python",
   "nbconvert_exporter": "python",
   "pygments_lexer": "ipython3",
   "version": "3.7.9"
  }
 },
 "nbformat": 4,
 "nbformat_minor": 2
}
